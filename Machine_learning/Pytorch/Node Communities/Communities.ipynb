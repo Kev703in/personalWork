{
  "cells": [
    {
      "cell_type": "code",
      "execution_count": 1,
      "metadata": {
        "id": "gQCgwVqzphWp"
      },
      "outputs": [],
      "source": [
        "!apt-get install openjdk-8-jdk-headless -qq > /dev/null\n",
        "!wget -q https://archive.apache.org/dist/spark/spark-3.2.0/spark-3.2.0-bin-hadoop3.2.tgz\n",
        "!tar xf /content/spark-3.2.0-bin-hadoop3.2.tgz\n",
        "!pip install -q findspark"
      ]
    },
    {
      "cell_type": "code",
      "execution_count": 2,
      "metadata": {
        "id": "3g69gPElqIcC"
      },
      "outputs": [],
      "source": [
        "import os\n",
        "os.environ[\"JAVA_HOME\"] = \"/usr/lib/jvm/java-8-openjdk-amd64\"\n",
        "os.environ[\"SPARK_HOME\"] = \"/content/spark-3.2.0-bin-hadoop3.2\"\n",
        "\n",
        "import findspark\n",
        "findspark.init()\n",
        "from pyspark import SparkContext\n",
        "import time\n",
        "from itertools import combinations\n",
        "import numpy as np"
      ]
    },
    {
      "cell_type": "code",
      "execution_count": 3,
      "metadata": {
        "id": "mWkyX7_BnSZF"
      },
      "outputs": [],
      "source": [
        "\n",
        "def create_adjacency_graph(user_edges_rdd):\n",
        "    rdd_1 = user_edges_rdd.groupByKey().mapValues(set)\n",
        "    rdd_2 = user_edges_rdd.map(lambda x: (x[1], x[0])).groupByKey().mapValues(set)\n",
        "    return rdd_1.union(rdd_2).reduceByKey(lambda x, y: x.union(y))\n"
      ]
    },
    {
      "cell_type": "code",
      "execution_count": 4,
      "metadata": {
        "colab": {
          "base_uri": "https://localhost:8080/"
        },
        "id": "cRbrE7q1nEEj",
        "outputId": "c229e2c8-a343-4890-a0aa-db6766d183ff"
      },
      "outputs": [
        {
          "output_type": "stream",
          "name": "stdout",
          "text": [
            "number of rows:  38648\n",
            "[['---1lKK3aKOuomHnwAkAow', 'uhb7nSskHRm5RFbGkGlGwQ'], ['---1lKK3aKOuomHnwAkAow', 'ebVPLAeD7FZ2VzY5ryOCxw']]\n",
            "users_rdd take 1: [('---1lKK3aKOuomHnwAkAow', {'sKA6EOpxvBtCg7Ipuhl1RQ', '906qsOYOdCxUHhJm5T5YrQ', 'd8lmIZIqmBC9oPM8y1dc7Q', 'ZZF5iqlKFBWJSGSZzWHMzA', '9xjAQ9VlK6e46xy_iLzXqg', '0jHZk9RrKh0uRhTRW1XIqQ', 'zWo2a6QPIuC-sSJURJ02Hw', 'zKqWjDZHo-lk7_E3hHkORg', 'T70pMoTP008qYLsIvFCXdQ', 'kRSTvmQaiWB2Dk5dhxat7g', 'y0qIyD4Y1TzFjVo0LgFTiQ', 'pKk7jCFIm96qDdk0laVT2w', 'l_-4l8JwZbAn75Q1sfI7zQ', 'V_TxEdzeEs8P5nGPANOY7A', 'iA8Ve2sZKN5Vz3mYKrtCaQ', 'IP-q2lMq654sboZLwzYaig', 'ud45YT67UCbtNfRxNeR2Yg', 'GIlFumyLyrKu-3xA_xZNQg', 'FaHADZARwnY4yvlvpnsfGA', 'Td5dMlTHHnLHvo8Fg4SL1g', '7ZOTARscTr3opn4qLbbnZw', 'VOAO6ip7GwK4McQZbRa60g', 'mvLdgkwBzqllHWHwS-ZZgQ', 'ZbHE1ZncONeH-q93GuVGdA', 'Eg_M8eeu9SDEdbP7iUmVbQ', '6c9e9qH_AdBYQnm7dyiDAQ', '5CJL_2-XwCGBmOav4mFdYg', 'WMpXWa8iiEaDzb4vLTZjcw', 'rXKzE4Iraz7vGWovWW-aBA', '_ucDskZqK5w1QHkoA_nlRw', 'r8Jr-7YfkhJL2nxk9lxUNg', 'rgnvT2gHHfW_jW1ZbIa_-g', '-kyvpeXIuQDKIYDkAK7ryw', 'a0v7Si0DK4cIko7AQY4YXg', 'S3kcGHznDcyzsxkOhSZeLg', 'RQu_Bv7EFf5NKMnh_3E7Ag', 'mgc8BmE6Tdt4MVOy6siZoA', 'LpyndkMvevIQA-JHoReHNw', 'PRBSiB7ytkLKHVZoBYPxpQ', 'E8JxHzlUrwio8gxV9k8a9Q', 'W035pMPJuocijd0BLfHaiw', 'Q3nButmAU4F-v55S5I3vEw', 'FjyZX8MwtveCowW0TR11dg', 'n_rEQNgsCOLNfMzGqFhn1g', 'm97jaBYRscg-hqDjMVIIWg', 'uhb7nSskHRm5RFbGkGlGwQ', 'vgA3g9yQDQSABsxmQLtDkQ', 'Av0k1bRSDC9UjVoQXQaZYA', '4GJc_Ls4f2uVptSfFQTL5g', 'X1NrsMUbGgi0qEW3TojqfQ', 'YkOCo5ipV2he2WXIAlZb-A', 'Wg9272hxpu9IBTXMTB6EeQ', 'Z5kjUEm1A18l864gb3XA8A', 'kJ34esV7NSbnLZeYzx4Rug', '9p-cpmHaga-EXyc6ZzYCcQ', 'wL5yGvlL1zXZ4EPJ8d0hIA', 'EIeU3coTP9V2qcmHhr60Yw', 'TFDT0ueZ3b3uyyMzhJFHTA', '3ViGD_AF1AUmxF4zeHB_kQ', 'QFPS9JBNdOOHVP0C3pSslw', 'qtZ50TWkfNS2UtLLuD1m8Q', '1NZonnS3SpogXaZJigVgqA', 'PAJlmByrU8zAB3WsXxA30Q', '-zbcosKSMGDhaZYN-CrcVA', '66VUcHJlDmRANxSb9skvMA', 'enVV_GttZ2UYT3cxArtNWQ', 'WXd7r6Yvjxhyo1L6R3lQMA', 'b1WGIdd_oSwGYZtC769Shw', 'XS1Zx6GzjtKPKmhDuVw5Jg', 'JdXWoFcLDxE7OhC63r8zAQ', 'ejcVeQztxXY6NX2O2SE0Rw', '3uOxuJUnx72b86-3NKhX0A', '02Ycww2etUAxorZb5gIM8Q', 'sG3MhGiT3oSyzHdHLtWRyQ', 'nRo8ZR3UO1Kt6XwIMbMy1w', 'oSS4sjOEjsubAKdTuAErfw', 'ZeLSZRm_l0Aw7idB3_fKbA', 'VyjyHoBg3KC5BSFRlD0ZPQ', 'D3MfMrIoNV4_aXPj0bi1BQ', 'dJS3iH-odljqWS9MKEFsBA', 'gJhKRTcfOA-Gn1_R-j-F0w', 'i4l_Qr_zIz6PgyDktkf5dA', 'f5O7v_X_jCg2itqacRfxhg', 'i3PXMoEBODGkxKFYF3a9cA', 'dIUHCuiAlzkxfgCEOtky8w', 'UQTKPKEzm6513DknF7Scqg', 'kwjjDjQXgw08ehpjy9ldoA', 'xuAY1qnAMrzkNyTd0K0Tcg', '9IpKGHaPy3hhXo9g5Bt7lg', '9nTF596jDvBBia2EXXiOOg', 'xiNBWLfditvEZ_GAbGUbCw', '8YG7PRoZuHeKii0rtNvJFQ', '6Eks3cn0UGUqQjXxXpSPDg', 'jYqOPpSmtKbKzf0Z_g-Oyg', '5KcrEqWVHrkBH9W8H6cC9w', 'Qb4sJ4ssSX1clY2wEAOmsA', 'T-TES2u1IA2THb8uBhNdCA', 'AuIiqDeL65kczmiFSkAWrA', '476CROJauLg6CtssqHRxmA', '3vxIqhm2jCVjkUWtmDvTsw', '0KjY3gmtqQjc4sK-uG-6fQ', 'NdgsBrZKSsmCNBDfj_0L0A', 'oNn16x2Ubv60RAibmJ2uSA', 'NS8ECwXYwxy3WT2y2BYGBA', 'fThrN4tfupIGetkrz18JOg', '7HIa2lYy5jgcZuADlRjKSg', 'i2dnic7VdQ3NyiQQWUXHbA', '0sPOBQHlVvuhO1h-1p1ccQ', 'I0f12eU-xFn6Kd_4H57jrQ', 'pJxbs4qsbd9lVYiLLc6Eig', 'FvXZcRB8bocNMDvFUnoWhg', 'liGn7sPOvUuy3kcwbhRkbA', 'o6-VStvJVzpdcfdsyfe9qg', 'cUwNW5NEua_yMcAx-X2sMg', '8mx_TpMhpFLdQi_K5aPdOg', 'J4CATH00YZrq8Bne2S4_cw', 'H6skMpg_g-sOrfTQf_Q5LQ', 'LPnbHWVedn2oX3WGkHOJSQ', 'adbcOhZ54xwjkilzh0FrZg', 'ACukMRSxEraQmQqjWsvKPQ', '44FSoN5Wj2B9vZTTYHlQZQ', 'n_-CwlqV8fzEIUPky8Ibtw', '68jn0s0snbO5dhasLaVvDw', '47guZqFjz2V5TJcdtvooJw', 'w5CSi-An5meLnxjKSFn0wQ', '364hhL5st0LV16UcBHRJ3A', 'ZrS5rhJ4OvXQG_38wPEWlA', 'a_ozcQNKgUOW4Lr0NQq4qg', '93aPUKvmTH0TDIyAeMhRNw', 'w4a6TuFWArSc29dB51rPNA', '86Cq7KrcFUo1LGtNORfo1w', 'ydcNlRMKs93AQpOhVkSrGQ', 'E7Heu5iT3D1WsfxlFROgEA', 'kfP2LXyH1misyw3wHEOneA', 'AbgNPAnuq8X90DUw5FQ2sQ', 'S4NHg4GZD35HzzibJAxXDw', 'Gen0ei06dGq13OJ8DRXUjg', 'e2ApirIzYID9xIye0r_gKQ', 'Dy99p5bWfr6g0UtlmPjDqg', 'DuMWyxL4DMcy5A8MXD_67w', '338D7EQfInzHV8Ve1b0-eQ', '50tjBMTlIbFBxjTRXAVZHQ', 'J9yr8q9iFDwdkdrm0Y3GdA', 'bQ_wtZvMb__OhprY5bF9aQ', 'VrKja5O6w0aJs-sFPMTtVw', 'IZrGUQHkxOxyDmifE6p7bw', 'NOz8W_cUV3Dw5yLgFkKLGw', 'fg9Pwv9jDwZz0L02nJtGVA', '6W3hdaCjx_n1kADEuORduA', 'aqCOsEhjCHVqaFPRt8MCRg', 'QjZFYd5hme7EHegpuJngMQ', 'E-wETrdq1uImd6lX6x8Qxw', 'Dol1dv_P7yuIqy5b_-3qwA', 'FaGtI6jCKR650CiERd0Q_w', '-kG0N8sBhBotMbu0KVSPaw', 'y0x795PyDX8JL_oyIaTUiQ', 'T3ASfec34b8-uYr3xZj8Lw', 'aGiISkkcEhciE7LCj7MekA', '5xYk23lz0ktdMvzHtohymQ', 'LVLctMJ018ShlsFkIuYGTg', 'jPsYewglXykobaR7F14Ykw', 'rTS8LsUmNIiXsXydE49tPA', 'RJSFI7mxGnkIIKiJCufLkg', '1jpYP-JNOEYCMIzP4OlGuQ', '7mV10OWvWZlvQahmoBrKTw', 'Kn23LDd740SBVJ7mum0fwg', 'HRRQeHMo7VN53b9isQ_qdA', 'JFaTPxWQC14VmFnXLv7W1g', 'WAvBDsUGa_nzmcwfc42Qng', 'XrcB7Of1KfHlkeXYpHLIrw', 'u-3wk-2mnsjy0YIoEg_XjQ', 'w8zw4-3Ns2M4CQxeW9Bszw', 'KsWGy-WuTUm5ve5lFUOCfg', 'slVkMoNTCGI2rOhMaL5u5A', 'nMUSAPBxlvR8PBPDEsV52g', 'UYop9KYT-_mJsc2bcH83jw', '7q7qaGPUUCqMljdIGwzvFQ', 'i0rVOregYLFcp7C1RKoE3g', 'bXCWON2Me0o86qvAb-XZPQ', 'r388dQHh4aYgmY6JCThYUQ', 'Rl6NhS6S-Vv-HuGlQUVvRQ', 'RADloW1UROUn4FJFU4JJNg', 'Z5L-jOexcqCXfXWTIWnYlw', 'VUtazCTIc0aoOrQprP_s-Q', 'Pe9kznAqPNFOZ6Ly1qmE0A', '8xTuXU5uZ85WF-ZGqDNv_w', 'vyEwNjo1MKKwt20Hcgr1dA', 'POJL-N7Smw1UZMP_xldFwg', 'I3Saf0s5ybDKprYPPNWqtA', 'TkvzXqOKLqVTCrHG5GSEuQ', 'MTtI2bqoNHN_0m2cHbY2ug', '7VWtmHsd4HSNDkF5f5xnng', 'VEFtI92ux6Q9PwMMrm0T-g', 'pomGBqfbxcqPv14c3XH-ZQ', '9SrZRDl7-ZfuENCo0DjfsQ', 'XlZ2Row0pszDilc5WmXiZQ', 'TDtggQc6j_HjmQXS5QjzeA', 'rFRNjwr6Z3r4agQG-LtluA', 'XKPosZx2j4RHcZ8Ewdwj0A', 'k3fn9JFiNLNy2q5p0cE1kg', 'GXDRFAunLh0aRao6ERnM4A', 'kPV1DlXSkcXY5G8r2LLmEA', 'qE9yIXn2GQb2-4a_qOOKzg', 'JVK8szNDoy9MNiYSz_MiAA', 'JW0563rcbzqvCVIoXOagQQ', 'F09jtEb9KEph2L7Pbji5QQ', 'hD03alkIFsIyoN2rszpeOw', 'Vs7gc9EE3k9wARuUcN9piA', 'rioQ_p2pILNbJ4Xp5jW6-Q', 'x9SL1nCaUYM4JP91UrVkxQ', 'bCa0CY4F74N5lCEVOquKkg', 'yQab5dxZzgBLTEHCw9V7_w', 'OoI3WUe4Xl86d53avy3oVA', 'VnZ7QP7OnJD8dJIFk91-Yw', 'Q4WmBfRD6rcTSXVZqjKC5Q', 'tDXQBKBKN-4kJnCL-BqRbA', 'slx9qstc2U2Tc4s7dzbbBg', 'eoHdUeQDNgQ6WYEnP2aiRw', 'j28T6ZuP1mLHe3m36COOpQ', 'a4MVM9E9022sYFrrYWy9DQ', '4JNXUYY8wbaaDmk3BPzlWw', 'G859H6xfAmVLxbzQgipuoA', 'DxgSVufr_6y_Rc63CC17Zg', 'X-b4-QvZLENnf3yFwhpSXQ', 'mmMihsgFSb_7fp5rAXiW_A', 'C-oKwqnAPa1KJZhMOox60w', 'YU2XR_ZY-g2VzDpi7KMzEw', 'TkSIb5m9KXEBq2hViJwuXg', '0ptR21GHRuQ1MFtxGNcxzw', '20ib4z2Yo2wlfARFMcFwSQ', 'z15C-dJodOlPO8bMBl6F8g', 'bYGn37k0KgleABKMWgjnMw', '3OKwP3ylofhDJDtWJQu5GQ', 'i4SZYnZOM984FpkJXnzcvw', '8tMy7yEeNVYylVVFRlPmdQ', 'NfIqgh7zrXLh39mRpZO0RQ', '8xCiibfgqy-8xpCWEaguqg', 'ikglIr6lytozzOh9KFqurQ', 'T8-13dD8mV2qUI53wsUL6g', 'dLc1d1zwd1Teu2QED5TmlA', 'hggVnGwA5042-ABxqeJX-A', 'MdS6EHt2RZFpn9fQXZc9Ig', '67Pa_CtXthgJzXfY8JzLDQ', 'XBbuCmvFnfFd8JdQz4IvqQ', '5mu4SWwVTgNUXw0lWLaoZw', 'wkUVdJTeWQiY7U-gOOMYWQ', 'B_WggEKFq-ZFNui8CHPYvA', '-JFVxwdVQfX207554dx1nw', 'anzCdD5eIEHwydTpXhLlUA', 'VBcmyBxAPcpzbbnPbFfttA', 'mnI_n7A8sxgOSmtgI3wzQQ', 'v6HupiIVNu5Ocdb0k_hppA', '2hgN9BGgenv8mZ0A8ybhGQ', 'An_U8woQkFVsMqVblkImZQ', 'ebVPLAeD7FZ2VzY5ryOCxw', 'EhIMjTklf4QPvRvMIhoQiA', '8HdiVkuvU_uRsJug52g7Wg', 'CQk3WJtULz_xOkUM6o7wpQ', 'uW6UHfONAmm8QttPkbMewQ', '6OkjUz-I552moryf3qN1Gg', 'ik0y2ZYiMQBVQsyDDyOzfw', 'Kvm-YTwOrexgqxZ25CRi-w', 'iRwT2pBa87Y54q8nqfNAzw', '6UqOXFic_vu2JLGuu8YD6A', 'frBAaI0FRj1BwnToT1AFZA', 'O8SuwP1Cguu8-dos_8ibNg', '-YGQwikbX2fXUIjyegR7pw', 'BHWIl_wI7P58JrODocBjkg', 'vWFhRvHVIJAzIeOX4g_YcA', '2g_auUWw7c3c2CUTgVqI8Q', 'raOX2DM3BHjkdOy41BGFJw', '9M6eqYZlyBMo8K9QztXcIA', 'sAXy1yJRLllTm5WrJbJGAA', '8rtd2ZoeNMHjCQQnWuZ-bQ', '4BBda3yy_8GXGmYLcgggHw', 'Asy49gKgikq_NkYsC_7c0Q', 'eCeFBHucdjbZkJlry8EALw'})]\n",
            "rdd: number of distinct users: 20\n",
            "dict: number of distinct users: 20\n",
            "user_edges_rdd take 2 [('---1lKK3aKOuomHnwAkAow', '--2vR0DIsmQ6WfcSzKWigw'), ('---1lKK3aKOuomHnwAkAow', '--YhjyV-ce1nFLYxP49C5A')]\n",
            "user_adjacency_rdd take 2 [('---1lKK3aKOuomHnwAkAow', {'--YhjyV-ce1nFLYxP49C5A', '-EJorVxe7h2GSxdiRyMmDA', '--2vR0DIsmQ6WfcSzKWigw', '-267Yx8RmdP6io2-qI4UcQ', '-Anyb0vB5LrW273whytNRw', '-Fy91nyOFqPv9M_MaZ4W2g', '-3s52C4zL_DHRK0ULG6qtg', '-7bM_DeL2Kj2CuYuVDsLNg', '-ARdx8hOcEWlMDjzwLYZ_g', '-9b4s874f_CnznTu4JorRg'}), ('--2vR0DIsmQ6WfcSzKWigw', {'--YhjyV-ce1nFLYxP49C5A', '---1lKK3aKOuomHnwAkAow', '-9b4s874f_CnznTu4JorRg', '-267Yx8RmdP6io2-qI4UcQ', '-Anyb0vB5LrW273whytNRw', '-Fy91nyOFqPv9M_MaZ4W2g', '-0HhZbPBlB1YZx3BhAfaEA', '-7bM_DeL2Kj2CuYuVDsLNg', '-ARdx8hOcEWlMDjzwLYZ_g', '-2kCxY7_aw5hOz7fJnGMbQ'})]\n",
            "user_adjacency_dict: {'---1lKK3aKOuomHnwAkAow': {'--YhjyV-ce1nFLYxP49C5A', '-EJorVxe7h2GSxdiRyMmDA', '--2vR0DIsmQ6WfcSzKWigw', '-267Yx8RmdP6io2-qI4UcQ', '-Anyb0vB5LrW273whytNRw', '-Fy91nyOFqPv9M_MaZ4W2g', '-3s52C4zL_DHRK0ULG6qtg', '-7bM_DeL2Kj2CuYuVDsLNg', '-ARdx8hOcEWlMDjzwLYZ_g', '-9b4s874f_CnznTu4JorRg'}, '--2vR0DIsmQ6WfcSzKWigw': {'--YhjyV-ce1nFLYxP49C5A', '---1lKK3aKOuomHnwAkAow', '-9b4s874f_CnznTu4JorRg', '-267Yx8RmdP6io2-qI4UcQ', '-Anyb0vB5LrW273whytNRw', '-Fy91nyOFqPv9M_MaZ4W2g', '-0HhZbPBlB1YZx3BhAfaEA', '-7bM_DeL2Kj2CuYuVDsLNg', '-ARdx8hOcEWlMDjzwLYZ_g', '-2kCxY7_aw5hOz7fJnGMbQ'}, '--RlSfc-QmcHFGHyX6aVjA': {'-8syaSLDbMXW2F2FApVgig', '-50XWnmQGqBgEI-9ANvLlg', '-2kCxY7_aw5hOz7fJnGMbQ', '-9da1xk7zgnnfO1uTVYGkA'}, '--YhjyV-ce1nFLYxP49C5A': {'---1lKK3aKOuomHnwAkAow', '-EJorVxe7h2GSxdiRyMmDA', '--2vR0DIsmQ6WfcSzKWigw', '-267Yx8RmdP6io2-qI4UcQ', '-3s52C4zL_DHRK0ULG6qtg', '-7bM_DeL2Kj2CuYuVDsLNg', '-9b4s874f_CnznTu4JorRg'}, '-0HhZbPBlB1YZx3BhAfaEA': {'-8syaSLDbMXW2F2FApVgig', '--2vR0DIsmQ6WfcSzKWigw', '-267Yx8RmdP6io2-qI4UcQ', '-Anyb0vB5LrW273whytNRw', '-2kCxY7_aw5hOz7fJnGMbQ'}, '-267Yx8RmdP6io2-qI4UcQ': {'--YhjyV-ce1nFLYxP49C5A', '---1lKK3aKOuomHnwAkAow', '--2vR0DIsmQ6WfcSzKWigw', '-Anyb0vB5LrW273whytNRw', '-Fy91nyOFqPv9M_MaZ4W2g', '-3s52C4zL_DHRK0ULG6qtg', '-0HhZbPBlB1YZx3BhAfaEA', '-7bM_DeL2Kj2CuYuVDsLNg', '-9b4s874f_CnznTu4JorRg'}, '-3s52C4zL_DHRK0ULG6qtg': {'---1lKK3aKOuomHnwAkAow', '--YhjyV-ce1nFLYxP49C5A', '-267Yx8RmdP6io2-qI4UcQ', '-9b4s874f_CnznTu4JorRg'}, '-7bM_DeL2Kj2CuYuVDsLNg': {'--YhjyV-ce1nFLYxP49C5A', '---1lKK3aKOuomHnwAkAow', '--2vR0DIsmQ6WfcSzKWigw', '-267Yx8RmdP6io2-qI4UcQ', '-Anyb0vB5LrW273whytNRw', '-9b4s874f_CnznTu4JorRg'}, '-9b4s874f_CnznTu4JorRg': {'--YhjyV-ce1nFLYxP49C5A', '-EJorVxe7h2GSxdiRyMmDA', '---1lKK3aKOuomHnwAkAow', '--2vR0DIsmQ6WfcSzKWigw', '-267Yx8RmdP6io2-qI4UcQ', '-Anyb0vB5LrW273whytNRw', '-Fy91nyOFqPv9M_MaZ4W2g', '-3s52C4zL_DHRK0ULG6qtg', '-7bM_DeL2Kj2CuYuVDsLNg'}, '-Anyb0vB5LrW273whytNRw': {'---1lKK3aKOuomHnwAkAow', '--2vR0DIsmQ6WfcSzKWigw', '-267Yx8RmdP6io2-qI4UcQ', '-Fy91nyOFqPv9M_MaZ4W2g', '-0HhZbPBlB1YZx3BhAfaEA', '-7bM_DeL2Kj2CuYuVDsLNg', '-9b4s874f_CnznTu4JorRg'}, '-ARdx8hOcEWlMDjzwLYZ_g': {'---1lKK3aKOuomHnwAkAow', '--2vR0DIsmQ6WfcSzKWigw'}, '-EJorVxe7h2GSxdiRyMmDA': {'---1lKK3aKOuomHnwAkAow', '--YhjyV-ce1nFLYxP49C5A', '-9b4s874f_CnznTu4JorRg'}, '-Fy91nyOFqPv9M_MaZ4W2g': {'---1lKK3aKOuomHnwAkAow', '--2vR0DIsmQ6WfcSzKWigw', '-267Yx8RmdP6io2-qI4UcQ', '-Anyb0vB5LrW273whytNRw', '-9b4s874f_CnznTu4JorRg'}, '-2kCxY7_aw5hOz7fJnGMbQ': {'--2vR0DIsmQ6WfcSzKWigw', '--RlSfc-QmcHFGHyX6aVjA', '-0HhZbPBlB1YZx3BhAfaEA'}, '-50XWnmQGqBgEI-9ANvLlg': {'--RlSfc-QmcHFGHyX6aVjA'}, '-8syaSLDbMXW2F2FApVgig': {'-0HhZbPBlB1YZx3BhAfaEA', '--RlSfc-QmcHFGHyX6aVjA'}, '-9da1xk7zgnnfO1uTVYGkA': {'--RlSfc-QmcHFGHyX6aVjA'}}\n",
            "node_degrees_dict {'---1lKK3aKOuomHnwAkAow': 10, '--2vR0DIsmQ6WfcSzKWigw': 10, '--RlSfc-QmcHFGHyX6aVjA': 4, '--YhjyV-ce1nFLYxP49C5A': 7, '-0HhZbPBlB1YZx3BhAfaEA': 5, '-267Yx8RmdP6io2-qI4UcQ': 9, '-3s52C4zL_DHRK0ULG6qtg': 4, '-7bM_DeL2Kj2CuYuVDsLNg': 6, '-9b4s874f_CnznTu4JorRg': 9, '-Anyb0vB5LrW273whytNRw': 7, '-ARdx8hOcEWlMDjzwLYZ_g': 2, '-EJorVxe7h2GSxdiRyMmDA': 3, '-Fy91nyOFqPv9M_MaZ4W2g': 5, '-2kCxY7_aw5hOz7fJnGMbQ': 3, '-50XWnmQGqBgEI-9ANvLlg': 1, '-8syaSLDbMXW2F2FApVgig': 2, '-9da1xk7zgnnfO1uTVYGkA': 1}\n"
          ]
        }
      ],
      "source": [
        "# Preprocessing\n",
        "\n",
        "threshold = 4 # the filter threshold to generate edges between user nodes. If threshold is 2, two nodes are connected if they both review at least two same businesses\n",
        "\n",
        "sc = SparkContext.getOrCreate()\n",
        "rdd = sc.textFile(\"sample_data.txt\")\n",
        "# rdd = sc.textFile(\"gs://cps-534/sample_data.txt\")\n",
        "header = rdd.first()\n",
        "rdd = rdd.filter(lambda line: line != header)\n",
        "N = rdd.count()  # N is the number of rows (lines) in the textfile\n",
        "print(\"number of rows: \", N)\n",
        "rdd = rdd.map(lambda line: line.split(\",\"))\n",
        "print(rdd.take(2))\n",
        "\n",
        "# find (user_id, {business1, business2, ...}) and save them in users_rdd:\n",
        "users_rdd = rdd.map(lambda x: (x[0], x[1])).groupByKey().mapValues(set)\n",
        "\n",
        "###############################################################################\n",
        "\n",
        "# This code reduces the sample data\n",
        "no_of_users = 20\n",
        "indexed_users_rdd = users_rdd.zipWithIndex()\n",
        "users_rdd = indexed_users_rdd.filter(lambda x: x[1] < no_of_users).map(lambda x : x[0])\n",
        "\n",
        "###############################################################################\n",
        "users_rdd.persist()\n",
        "print(\"users_rdd take 1:\", users_rdd.take(1)) # key is user_id, value is a set of all businesses that this user reviewed\n",
        "\n",
        "# create users_dict dictionary (key, value) for fast search, since keys in dict are hashed\n",
        "users_dict = dict(users_rdd.collect())\n",
        "\n",
        "# get user_id information only:\n",
        "distinct_users = users_rdd.keys().collect()\n",
        "\n",
        "print(\"rdd: number of distinct users:\", users_rdd.count())\n",
        "print(\"dict: number of distinct users:\", len(users_dict))\n",
        "\n",
        "# let us create edges between users:\n",
        "original_user_edges_list = []  # each item in original_user_edges_list is en edge connecting two users\n",
        "for temp_user in combinations(distinct_users, 2): # for every two userIDs, check if the number of common businesses they reviewed is >= threshold\n",
        "  if len(users_dict[temp_user[0]].intersection(users_dict[temp_user[1]])) >= threshold:\n",
        "    edge_sort_key = tuple(sorted([temp_user[0], temp_user[1]]))\n",
        "    original_user_edges_list.append(edge_sort_key)\n",
        "\n",
        "\n",
        "# each item in user_edges_rdd is en edge connecting two users\n",
        "user_edges_rdd = sc.parallelize(original_user_edges_list).persist()\n",
        "print(\"user_edges_rdd take 2\", user_edges_rdd.take(2))\n",
        "\n",
        "# based on edges, we create an adjacency graph:\n",
        "user_adjacency_rdd = create_adjacency_graph(user_edges_rdd) # each item in user_adjacency_rdd is (userID, a set of neighbors)\n",
        "print(\"user_adjacency_rdd take 2\", user_adjacency_rdd.take(2))\n",
        "\n",
        "user_adjacency_dict = user_adjacency_rdd.collectAsMap()  # collectAsMap: return the key-value pairs in this RDD to the master as a dictionary.\n",
        "\n",
        "print(\"user_adjacency_dict:\",user_adjacency_dict)\n",
        "\n",
        "node_degrees_dict = user_adjacency_rdd.map(lambda x: (x[0], len(x[1]))).collectAsMap() # collectAsMap: return the key-value pairs in this RDD to the master as a dictionary.\n",
        "\n",
        "print(\"node_degrees_dict\", node_degrees_dict)  # each item in this dict is 'userID' : node-degree\n",
        "\n",
        "\n",
        "# now we have a graph, saved in user_edges_rdd\n",
        "\n",
        "sc.stop()\n",
        "\n",
        "\n",
        "# Adj graphs: user_adjacency_dict"
      ]
    },
    {
      "cell_type": "code",
      "execution_count": 5,
      "metadata": {
        "colab": {
          "base_uri": "https://localhost:8080/"
        },
        "id": "aM8CcnFLOpmV",
        "outputId": "13e41803-5945-4aae-cf59-4a34fb895f25"
      },
      "outputs": [
        {
          "output_type": "stream",
          "name": "stdout",
          "text": [
            "[[0, 1, 1, 0, 1, 0, 0, 1, 1, 1, 0, 0, 1, 0, 1, 1, 1], [1, 0, 1, 0, 1, 0, 0, 1, 0, 0, 0, 0, 1, 0, 1, 0, 1], [1, 1, 0, 0, 0, 0, 0, 0, 0, 0, 0, 0, 0, 0, 0, 0, 1], [0, 0, 0, 0, 0, 1, 1, 0, 0, 0, 1, 1, 0, 0, 0, 0, 0], [1, 1, 0, 0, 0, 0, 0, 1, 1, 1, 1, 0, 0, 1, 1, 1, 1], [0, 0, 0, 1, 0, 0, 0, 0, 0, 0, 0, 0, 0, 1, 0, 0, 0], [0, 0, 0, 1, 0, 0, 0, 0, 0, 0, 0, 0, 0, 0, 0, 0, 0], [1, 1, 0, 0, 1, 0, 0, 0, 1, 1, 0, 0, 1, 1, 1, 0, 1], [1, 0, 0, 0, 1, 0, 0, 1, 0, 1, 0, 0, 0, 1, 1, 0, 1], [1, 0, 0, 0, 1, 0, 0, 1, 1, 0, 0, 0, 0, 0, 0, 0, 1], [0, 0, 0, 1, 1, 0, 0, 0, 0, 0, 0, 0, 0, 1, 0, 0, 0], [0, 0, 0, 1, 0, 0, 0, 0, 0, 0, 0, 0, 0, 0, 0, 0, 0], [1, 1, 0, 0, 0, 0, 0, 1, 0, 0, 0, 0, 0, 0, 0, 0, 1], [0, 0, 0, 0, 1, 1, 0, 1, 1, 0, 1, 0, 0, 0, 0, 0, 0], [1, 1, 0, 0, 1, 0, 0, 1, 1, 0, 0, 0, 0, 0, 0, 0, 1], [1, 0, 0, 0, 1, 0, 0, 0, 0, 0, 0, 0, 0, 0, 0, 0, 0], [1, 1, 1, 0, 1, 0, 0, 1, 1, 1, 0, 0, 1, 0, 1, 0, 0]]\n"
          ]
        }
      ],
      "source": [
        "# adjacency_matrix\n",
        "\n",
        "keys = list(set(user_adjacency_dict.keys()))\n",
        "index_of_keys = { i: index for index, i in enumerate(keys)}\n",
        "\n",
        "\n",
        "size_of_keys = len(keys)\n",
        "\n",
        "adjacency_matrix = [[ 0 for _ in range(size_of_keys)] for _ in range(size_of_keys)  ]\n",
        "\n",
        "for key,values in user_adjacency_dict.items():\n",
        "  i = index_of_keys[key]\n",
        "  for value in values:\n",
        "    if value in  index_of_keys:\n",
        "      j = index_of_keys[value]\n",
        "      adjacency_matrix[i][j] = 1\n",
        "\n",
        "print(adjacency_matrix)\n"
      ]
    },
    {
      "cell_type": "code",
      "execution_count": 6,
      "metadata": {
        "id": "6mHOT6DCVLru"
      },
      "outputs": [],
      "source": [
        "def expFunc(x):\n",
        "    return np.divide(np.exp(-1.*x),1.-np.exp(-1.*x))\n",
        "\n",
        "def gradient(F, A, person):\n",
        "\n",
        "  columns = F.shape[1]\n",
        "\n",
        "  A_person = np.array(A[person])\n",
        "\n",
        "  neighbours = np.where(A_person)\n",
        "  not_neighbours = np.where(1-A_person)\n",
        "\n",
        "  sum_neigh = np.zeros((columns,))\n",
        "  for nb in neighbours[0]:\n",
        "    dotproduct = F[nb].dot(F[person])   ## F[nb] = Fv , F[person] =  Fu\n",
        "    sum_neigh += F[nb]*expFunc(dotproduct)\n",
        "\n",
        "  sum_nneigh = np.zeros((columns,))\n",
        "  for nnb in not_neighbours[0]:\n",
        "    sum_nneigh += F[nnb]    ## F[nnb] = Fv\n",
        "\n",
        "  grad = sum_neigh - sum_nneigh\n",
        "  return grad\n"
      ]
    },
    {
      "cell_type": "markdown",
      "metadata": {
        "id": "_ej4JgE4Hdb5"
      },
      "source": [
        "![Image Title](https://drive.google.com/uc?id=1mpcdd3zpg50dv1DDS-Gtkc3m5tFAjZA0)\n"
      ]
    },
    {
      "cell_type": "code",
      "execution_count": 7,
      "metadata": {
        "id": "7Bca07OFVUJF"
      },
      "outputs": [],
      "source": [
        "def community_train(num_communities, adjacency_matrix, size_of_keys):\n",
        "  F = np.random.rand(size_of_keys, num_communities)\n",
        "  iterations =100\n",
        "  for _ in range(iterations):\n",
        "    # print(F)\n",
        "    for person in range(size_of_keys):\n",
        "      learning_rate = 0.01\n",
        "      grad = gradient(F, adjacency_matrix, person)\n",
        "      F[person] += learning_rate*grad\n",
        "      F[person] = np.maximum(0.001, F[person]) # F should be nonnegative\n",
        "    # log_likelihood =  likelihood(F, adjacency_matrix)\n",
        "\n",
        "  F_argmax = np.argmax(F,1)\n",
        "\n",
        "  user_communities = {}\n",
        "  for i in range(size_of_keys):\n",
        "    user_communities[keys[i]] = F_argmax[i]\n",
        "\n",
        "  return F_argmax , user_communities\n",
        "\n"
      ]
    },
    {
      "cell_type": "code",
      "execution_count": 8,
      "metadata": {
        "colab": {
          "base_uri": "https://localhost:8080/"
        },
        "id": "NULx8LxEmkU2",
        "outputId": "8d0ca75e-816f-448d-87cf-c7d43c7ee1f5"
      },
      "outputs": [
        {
          "output_type": "stream",
          "name": "stdout",
          "text": [
            "{'---1lKK3aKOuomHnwAkAow': 0, '--YhjyV-ce1nFLYxP49C5A': 1, '-EJorVxe7h2GSxdiRyMmDA': 2, '--RlSfc-QmcHFGHyX6aVjA': 3, '--2vR0DIsmQ6WfcSzKWigw': 4, '-8syaSLDbMXW2F2FApVgig': 5, '-50XWnmQGqBgEI-9ANvLlg': 6, '-267Yx8RmdP6io2-qI4UcQ': 7, '-Anyb0vB5LrW273whytNRw': 8, '-Fy91nyOFqPv9M_MaZ4W2g': 9, '-2kCxY7_aw5hOz7fJnGMbQ': 10, '-9da1xk7zgnnfO1uTVYGkA': 11, '-3s52C4zL_DHRK0ULG6qtg': 12, '-0HhZbPBlB1YZx3BhAfaEA': 13, '-7bM_DeL2Kj2CuYuVDsLNg': 14, '-ARdx8hOcEWlMDjzwLYZ_g': 15, '-9b4s874f_CnznTu4JorRg': 16}\n"
          ]
        }
      ],
      "source": [
        "print(index_of_keys)"
      ]
    },
    {
      "cell_type": "markdown",
      "metadata": {
        "id": "ULx4LlaCPBmb"
      },
      "source": [
        "Modularity\n",
        "\n",
        "https://www.youtube.com/watch?v=Q_kJGm1xf6s\n",
        "\n",
        "\n",
        "![Image Title](https://drive.google.com/uc?id=1UQYKlfqIbZdQ_332LbCF6z6DXJ64Rio3\n",
        ")"
      ]
    },
    {
      "cell_type": "code",
      "execution_count": 11,
      "metadata": {
        "id": "47jfCdo7RpKd"
      },
      "outputs": [],
      "source": [
        "# Modularity\n",
        "\n",
        "Q_list = []\n",
        "community_list = []\n",
        "no_of_communities = 1\n",
        "optimal_modularity = False\n",
        "while( not optimal_modularity and no_of_communities < size_of_keys):\n",
        "  F_argmax, user_communities = community_train(no_of_communities, adjacency_matrix, size_of_keys)\n",
        "  no_of_edges = sum(list(node_degrees_dict.values()))\n",
        "\n",
        "  div = 1/(2 * no_of_edges)\n",
        "  edges_list = []\n",
        "  for k,val in node_degrees_dict.items():\n",
        "    edges_list.append(val)\n",
        "\n",
        "  sum_modularity = 0\n",
        "  for u in range(size_of_keys):\n",
        "    for v in range(size_of_keys):\n",
        "      if F_argmax[u] == F_argmax[v]:\n",
        "        dou = 1\n",
        "      else:\n",
        "        dou = 0\n",
        "      dudv = (edges_list[u]*edges_list[v])\n",
        "      out = (adjacency_matrix[u][v] - (dudv * div))*dou\n",
        "      sum_modularity = sum_modularity + out\n",
        "\n",
        "  Q = div * sum_modularity\n",
        "  Q_list.append(Q)\n",
        "  community_list.append(no_of_communities)\n",
        "  no_of_communities = no_of_communities + 1\n"
      ]
    },
    {
      "cell_type": "code",
      "source": [
        "# for i in range(len(Q_list)):\n",
        "#   print(\"Communities: \",no_of_communities[i],\", Modularity: \",Q_list[i])\n",
        "\n",
        "print(\"Optimal number of communities : \", community_list[Q_list.index(max(Q_list))], \" with Modularity : \",max(Q_list))"
      ],
      "metadata": {
        "colab": {
          "base_uri": "https://localhost:8080/"
        },
        "id": "Pu0l2En1bBKg",
        "outputId": "e763e0d7-3f82-47e8-e7bd-8f3b27cb5fe7"
      },
      "execution_count": 12,
      "outputs": [
        {
          "output_type": "stream",
          "name": "stdout",
          "text": [
            "Optimal number of communities :  2  with Modularity :  0.3429752066115702\n"
          ]
        }
      ]
    },
    {
      "cell_type": "code",
      "execution_count": 9,
      "metadata": {
        "id": "OL8JIGBTbl4p"
      },
      "outputs": [],
      "source": [
        "import networkx as nx\n",
        "import matplotlib.pyplot as plt\n",
        "\n",
        "def graph_for_plot(user_communities,adjacency_matrix):\n",
        "  # Create a graph\n",
        "  G = nx.Graph()\n",
        "\n",
        "  # Add nodes and edges based on user-community associations\n",
        "  for user, community in user_communities.items():\n",
        "      G.add_node(user, community=community)\n",
        "\n",
        "  # Add edges between users based on the adjacency matrix\n",
        "  for i in range(len(adjacency_matrix)):\n",
        "      for j in range(i, len(adjacency_matrix[i])):\n",
        "          if adjacency_matrix[i][j] == 1:\n",
        "              user1 = list(user_communities.keys())[i]\n",
        "              user2 = list(user_communities.keys())[j]\n",
        "              G.add_edge(user1, user2)\n",
        "  return G"
      ]
    },
    {
      "cell_type": "code",
      "source": [
        "F_argmax, user_communities = community_train(2, adjacency_matrix, size_of_keys)\n",
        "G = graph_for_plot(user_communities,adjacency_matrix)"
      ],
      "metadata": {
        "id": "WMoB2Dms6eVy"
      },
      "execution_count": 16,
      "outputs": []
    },
    {
      "cell_type": "code",
      "execution_count": 17,
      "metadata": {
        "colab": {
          "base_uri": "https://localhost:8080/",
          "height": 516
        },
        "id": "m29BhVD0nfyl",
        "outputId": "bf5eeb49-cff7-4197-a536-958a215b25e0"
      },
      "outputs": [
        {
          "output_type": "display_data",
          "data": {
            "text/plain": [
              "<Figure size 640x480 with 1 Axes>"
            ],
            "image/png": "[encoded data removed]"
          },
          "metadata": {}
        }
      ],
      "source": [
        "\n",
        "\n",
        "# Draw the graph with communities represented by colors\n",
        "community_colors = {0: 'r', 1: 'g', 2: 'b', 3: 'y'}\n",
        "node_colors = [community_colors[G.nodes[node]['community']] for node in G.nodes]\n",
        "\n",
        "pos = nx.spring_layout(G)  # You can choose different layouts\n",
        "\n",
        "nx.draw(G, pos, node_color=node_colors, with_labels=False, node_size=500)\n",
        "\n",
        "plt.show()\n"
      ]
    }
  ],
  "metadata": {
    "colab": {
      "provenance": []
    },
    "kernelspec": {
      "display_name": "Python 3",
      "name": "python3"
    },
    "language_info": {
      "name": "python"
    }
  },
  "nbformat": 4,
  "nbformat_minor": 0
}