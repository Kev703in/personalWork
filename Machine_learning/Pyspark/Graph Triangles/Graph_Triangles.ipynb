{
 "cells": [
  {
   "cell_type": "markdown",
   "id": "6a40d6036877f8a5",
   "metadata": {
    "collapsed": false,
    "id": "6a40d6036877f8a5"
   },
   "source": [
    "### Counting Triangles"
   ]
  },
  {
   "cell_type": "code",
   "execution_count": null,
   "id": "-J6dsPq1hGr-",
   "metadata": {
    "id": "-J6dsPq1hGr-"
   },
   "outputs": [],
   "source": [
    "# !apt-get install openjdk-8-jdk-headless -qq > /dev/null\n",
    "# !wget -q https://archive.apache.org/dist/spark/spark-3.2.0/spark-3.2.0-bin-hadoop3.2.tgz\n",
    "# !tar xf /content/spark-3.2.0-bin-hadoop3.2.tgz\n",
    "# !pip install -q findspark"
   ]
  },
  {
   "cell_type": "code",
   "execution_count": null,
   "id": "zO173AMftNuf",
   "metadata": {
    "id": "zO173AMftNuf"
   },
   "outputs": [],
   "source": [
    "# import os\n",
    "# os.environ[\"JAVA_HOME\"] = \"/usr/lib/jvm/java-8-openjdk-amd64\"\n",
    "# os.environ[\"SPARK_HOME\"] = \"/content/spark-3.2.0-bin-hadoop3.2\"\n",
    "\n",
    "# import findspark\n",
    "# findspark.init()"
   ]
  },
  {
   "cell_type": "code",
   "execution_count": null,
   "id": "2782f359",
   "metadata": {
    "ExecuteTime": {
     "end_time": "2023-09-17T01:38:12.784003900Z",
     "start_time": "2023-09-17T01:38:12.762195500Z"
    },
    "id": "2782f359"
   },
   "outputs": [],
   "source": [
    "from pyspark import SparkContext\n",
    "from itertools import combinations\n",
    "from operator import add, sub"
   ]
  },
  {
   "cell_type": "code",
   "execution_count": null,
   "id": "79b9a67c",
   "metadata": {
    "ExecuteTime": {
     "end_time": "2023-09-17T01:38:13.072597Z",
     "start_time": "2023-09-17T01:38:12.960504300Z"
    },
    "colab": {
     "base_uri": "https://localhost:8080/"
    },
    "id": "79b9a67c",
    "outputId": "f9e2a6f7-c856-4f02-a048-c19fcd3f67db"
   },
   "outputs": [
    {
     "name": "stdout",
     "output_type": "stream",
     "text": [
      "['0, 1', '0, 2', '1, 2', '1, 3', '2, 3']\n"
     ]
    }
   ],
   "source": [
    "sc = SparkContext.getOrCreate()\n",
    "rdd0 = sc.textFile(\"triangle.txt\")\n",
    "print(rdd0.collect())s"
   ]
  },
  {
   "cell_type": "code",
   "execution_count": null,
   "id": "6bb80f68",
   "metadata": {
    "ExecuteTime": {
     "end_time": "2023-09-17T01:38:13.177039Z",
     "start_time": "2023-09-17T01:38:13.161454300Z"
    },
    "colab": {
     "base_uri": "https://localhost:8080/"
    },
    "id": "6bb80f68",
    "outputId": "d9f22145-bee1-4009-df7e-d27915825c76"
   },
   "outputs": [
    {
     "name": "stdout",
     "output_type": "stream",
     "text": [
      "[(0, 1), (0, 2), (1, 2), (1, 3), (2, 3)]\n"
     ]
    }
   ],
   "source": [
    "def parse(element):\n",
    "    return tuple(int(x) for x in element.split(\",\"))\n",
    "\n",
    "rdd1 = rdd0.map(lambda element : parse(element))\n",
    "values = rdd1.collect()\n",
    "print(values)"
   ]
  },
  {
   "cell_type": "code",
   "execution_count": null,
   "id": "fd42125e",
   "metadata": {
    "ExecuteTime": {
     "end_time": "2023-09-17T01:38:15.583285900Z",
     "start_time": "2023-09-17T01:38:15.575276600Z"
    },
    "colab": {
     "base_uri": "https://localhost:8080/"
    },
    "id": "fd42125e",
    "outputId": "c72c973f-0d70-443a-8b7d-48380fe348b7"
   },
   "outputs": [
    {
     "name": "stdout",
     "output_type": "stream",
     "text": [
      "[(0, 1), (1, 0), (0, 2), (2, 0), (1, 2), (2, 1), (1, 3), (3, 1), (2, 3), (3, 2)]\n"
     ]
    },
    {
     "data": {
      "text/plain": [
       "[(0, [1, 2]), (2, [0, 1, 3]), (1, [0, 2, 3]), (3, [1, 2])]"
      ]
     },
     "execution_count": 159,
     "metadata": {},
     "output_type": "execute_result"
    }
   ],
   "source": [
    "def neighbours(element):\n",
    "    returnlist = []\n",
    "    returnlist.append((element[0], element[1]))\n",
    "    returnlist.append((element[1], element[0]))\n",
    "    return returnlist\n",
    "\n",
    "rdd2 = rdd1.flatMap(lambda element : neighbours(element))\n",
    "print(rdd2.collect())\n",
    "\n",
    "rdd3 = rdd2.groupByKey().mapValues(list)\n",
    "rdd3.collect()"
   ]
  },
  {
   "cell_type": "code",
   "execution_count": null,
   "id": "cb5822f2841f8987",
   "metadata": {
    "ExecuteTime": {
     "end_time": "2023-09-17T01:38:21.354924900Z",
     "start_time": "2023-09-17T01:38:21.351925800Z"
    },
    "colab": {
     "base_uri": "https://localhost:8080/"
    },
    "id": "cb5822f2841f8987",
    "outputId": "27c08dcb-da06-47a8-d7fb-ad485a654ceb"
   },
   "outputs": [
    {
     "name": "stdout",
     "output_type": "stream",
     "text": [
      "[(1, 2), (0, 1), (0, 3), (1, 3), (0, 2), (0, 3), (2, 3), (1, 2)]\n"
     ]
    }
   ],
   "source": [
    "def toCheck(element):\n",
    "    key = element[0]\n",
    "    values = element[1]\n",
    "    if len(values) >= 2:\n",
    "        return list(combinations(values, 2))\n",
    "    else:\n",
    "        return [tuple(values)]\n",
    "\n",
    "rdd4 = rdd3.flatMap(lambda element : toCheck(element))\n",
    "print(rdd4.collect())"
   ]
  },
  {
   "cell_type": "code",
   "execution_count": null,
   "id": "f918faca807190b8",
   "metadata": {
    "ExecuteTime": {
     "end_time": "2023-09-17T01:38:22.879237600Z",
     "start_time": "2023-09-17T01:38:22.872690400Z"
    },
    "colab": {
     "base_uri": "https://localhost:8080/"
    },
    "id": "f918faca807190b8",
    "outputId": "0893e619-3782-4e7c-f42d-01372616d535"
   },
   "outputs": [
    {
     "name": "stdout",
     "output_type": "stream",
     "text": [
      "[((1, 2), 'toCheck'), ((0, 1), 'toCheck'), ((0, 3), 'toCheck'), ((1, 3), 'toCheck'), ((0, 2), 'toCheck'), ((0, 3), 'toCheck'), ((2, 3), 'toCheck'), ((1, 2), 'toCheck')]\n"
     ]
    }
   ],
   "source": [
    "def mapping(element):\n",
    "    return (element, \"toCheck\")\n",
    "\n",
    "rdd5 = rdd4.map(lambda element : mapping(element))\n",
    "print(rdd5.collect())"
   ]
  },
  {
   "cell_type": "code",
   "execution_count": null,
   "id": "e3a5c3175f986a54",
   "metadata": {
    "ExecuteTime": {
     "end_time": "2023-09-17T01:38:24.437599700Z",
     "start_time": "2023-09-17T01:38:24.434447600Z"
    },
    "colab": {
     "base_uri": "https://localhost:8080/"
    },
    "id": "e3a5c3175f986a54",
    "outputId": "040ee0c6-a4a8-4b53-c1de-f0b450f6a439"
   },
   "outputs": [
    {
     "name": "stdout",
     "output_type": "stream",
     "text": [
      "[((0, 1), 'presentEdge'), ((1, 0), 'presentEdge'), ((0, 2), 'presentEdge'), ((2, 0), 'presentEdge'), ((1, 2), 'presentEdge'), ((2, 1), 'presentEdge'), ((1, 3), 'presentEdge'), ((3, 1), 'presentEdge'), ((2, 3), 'presentEdge'), ((3, 2), 'presentEdge')]\n",
      "[((0, 2), ('toCheck', 'presentEdge')), ((1, 2), ('toCheck', 'presentEdge')), ((1, 2), ('toCheck', 'presentEdge')), ((0, 1), ('toCheck', 'presentEdge')), ((2, 3), ('toCheck', 'presentEdge')), ((1, 3), ('toCheck', 'presentEdge'))]\n"
     ]
    }
   ],
   "source": [
    "def present(element):\n",
    "    return element, \"presentEdge\"\n",
    "\n",
    "rdd6 = rdd2.map(lambda element : present(element))\n",
    "print(rdd6.collect())\n",
    "\n",
    "rdd7 = rdd5.join(rdd6)\n",
    "print(rdd7.collect())"
   ]
  },
  {
   "cell_type": "code",
   "execution_count": null,
   "id": "926f155d98780c45",
   "metadata": {
    "ExecuteTime": {
     "end_time": "2023-09-17T01:38:37.851285800Z",
     "start_time": "2023-09-17T01:38:34.889910700Z"
    },
    "colab": {
     "base_uri": "https://localhost:8080/"
    },
    "id": "926f155d98780c45",
    "outputId": "0528c94c-6da6-4511-f2bb-ef60d775bdc9"
   },
   "outputs": [
    {
     "name": "stdout",
     "output_type": "stream",
     "text": [
      "[((0, 2), ('toCheck', 'presentEdge')), ((1, 2), ('toCheck', 'presentEdge', 'toCheck', 'presentEdge')), ((0, 1), ('toCheck', 'presentEdge')), ((2, 3), ('toCheck', 'presentEdge')), ((1, 3), ('toCheck', 'presentEdge'))]\n"
     ]
    }
   ],
   "source": [
    "def findTriangles(element1, element2):\n",
    "    return element1 + element2\n",
    "\n",
    "rdd8 = rdd7.reduceByKey(lambda element1, element2 : findTriangles(element1, element2))\n",
    "print(rdd8.collect())"
   ]
  },
  {
   "cell_type": "code",
   "execution_count": null,
   "id": "827bc39df0a6e0f8",
   "metadata": {
    "ExecuteTime": {
     "end_time": "2023-09-17T01:38:37.859097500Z",
     "start_time": "2023-09-17T01:38:37.856095800Z"
    },
    "colab": {
     "base_uri": "https://localhost:8080/"
    },
    "id": "827bc39df0a6e0f8",
    "outputId": "97a21bd4-7959-4227-e7d5-e1b658bb8ebd"
   },
   "outputs": [
    {
     "name": "stdout",
     "output_type": "stream",
     "text": [
      "Number of Triangles:  2\n"
     ]
    }
   ],
   "source": [
    "def countTriangles(element):\n",
    "    key = element[0]\n",
    "    value = element[1]\n",
    "    counts = int(value.count('toCheck'))\n",
    "    result = (counts)\n",
    "    return result\n",
    "\n",
    "rdd9 = rdd8.map(lambda element : countTriangles(element))\n",
    "\n",
    "rdd10 = rdd9.filter(lambda element : element == 2).reduce(add)\n",
    "\n",
    "print(\"Number of Triangles: \",rdd10)"
   ]
  }
 ],
 "metadata": {
  "colab": {
   "provenance": []
  },
  "kernelspec": {
   "display_name": "Python 3 (ipykernel)",
   "language": "python",
   "name": "python3"
  },
  "language_info": {
   "codemirror_mode": {
    "name": "ipython",
    "version": 3
   },
   "file_extension": ".py",
   "mimetype": "text/x-python",
   "name": "python",
   "nbconvert_exporter": "python",
   "pygments_lexer": "ipython3",
   "version": "3.9.12"
  }
 },
 "nbformat": 4,
 "nbformat_minor": 5
}
