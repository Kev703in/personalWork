{
  "nbformat": 4,
  "nbformat_minor": 0,
  "metadata": {
    "colab": {
      "provenance": []
    },
    "kernelspec": {
      "name": "python3",
      "display_name": "Python 3"
    },
    "language_info": {
      "name": "python"
    }
  },
  "cells": [
    {
      "cell_type": "code",
      "execution_count": null,
      "metadata": {
        "colab": {
          "base_uri": "https://localhost:8080/"
        },
        "id": "oBsOm5I4ZsPd",
        "outputId": "2e0abc07-1560-460a-e6aa-6968e9709165"
      },
      "outputs": [
        {
          "output_type": "stream",
          "name": "stderr",
          "text": [
            "[nltk_data] Downloading package stopwords to /root/nltk_data...\n",
            "[nltk_data]   Package stopwords is already up-to-date!\n",
            "[nltk_data] Downloading package omw-1.4 to /root/nltk_data...\n",
            "[nltk_data]   Package omw-1.4 is already up-to-date!\n",
            "[nltk_data] Downloading package wordnet to /root/nltk_data...\n",
            "[nltk_data]   Package wordnet is already up-to-date!\n"
          ]
        },
        {
          "output_type": "stream",
          "name": "stdout",
          "text": [
            "Looking in indexes: https://pypi.org/simple, https://us-python.pkg.dev/colab-wheels/public/simple/\n",
            "Requirement already satisfied: tld in /usr/local/lib/python3.10/dist-packages (0.13)\n",
            "Looking in indexes: https://pypi.org/simple, https://us-python.pkg.dev/colab-wheels/public/simple/\n",
            "Requirement already satisfied: colorama in /usr/local/lib/python3.10/dist-packages (0.4.6)\n"
          ]
        }
      ],
      "source": [
        "# Author: Kevin Richard (101744371 ), Tanishq Venkata Satya Sri Pavan Sadanala (101745449 )\n",
        "# Date: 11 Mar 2023\n",
        "# Assignment 2\n",
        "# Course: CPS - 592\n",
        "\n",
        "import numpy as np\n",
        "import tensorflow as tf\n",
        "import matplotlib.pyplot as plt\n",
        "import matplotlib\n",
        "from sklearn.model_selection import train_test_split\n",
        "from sklearn.preprocessing import LabelEncoder, StandardScaler\n",
        "import pandas as pd\n",
        "\n",
        "from sklearn.linear_model import LogisticRegression\n",
        "from sklearn.svm import LinearSVC\n",
        "from sklearn.metrics import accuracy_score\n",
        "\n",
        "import nltk\n",
        "from nltk.corpus import stopwords\n",
        "nltk.download('stopwords')\n",
        "\n",
        "from nltk.tokenize import RegexpTokenizer\n",
        "\n",
        "nltk.download('omw-1.4')\n",
        "nltk.download('wordnet')\n",
        "from nltk.stem import WordNetLemmatizer\n",
        "\n",
        "from sklearn.feature_extraction.text import TfidfVectorizer\n",
        "from sklearn.feature_extraction.text import CountVectorizer\n",
        "\n",
        "!pip install tld\n",
        "import tld\n",
        "from tld import get_tld, is_tld\n",
        "!pip install colorama\n",
        "from colorama import Fore\n",
        "from urllib.parse import urlparse\n",
        "import math\n",
        "from collections import Counter\n",
        "import re\n",
        "\n",
        "import seaborn as sb\n",
        "from sklearn import metrics\n",
        "from sklearn.metrics import confusion_matrix,mean_squared_error,precision_score,recall_score,f1_score\n",
        "from sklearn.metrics import classification_report , roc_curve, f1_score, accuracy_score, recall_score , roc_auc_score,make_scorer"
      ]
    },
    {
      "cell_type": "code",
      "source": [
        "# from google.colab import files\n",
        "# files.upload()"
      ],
      "metadata": {
        "id": "xTFbKdzTbQM0"
      },
      "execution_count": null,
      "outputs": []
    },
    {
      "cell_type": "code",
      "source": [
        "#Task 1\n",
        "\n",
        "df= pd.read_csv(\"phishing_site_urls.csv\")\n",
        "print(df.shape)\n",
        "df.head()"
      ],
      "metadata": {
        "colab": {
          "base_uri": "https://localhost:8080/",
          "height": 224
        },
        "id": "CSXEUaRndlBt",
        "outputId": "a1aff001-56b7-4b4d-adee-ff53720fb0eb"
      },
      "execution_count": null,
      "outputs": [
        {
          "output_type": "stream",
          "name": "stdout",
          "text": [
            "(549346, 2)\n"
          ]
        },
        {
          "output_type": "execute_result",
          "data": {
            "text/plain": [
              "                                                 URL Label\n",
              "0  nobell.it/70ffb52d079109dca5664cce6f317373782/...   bad\n",
              "1  www.dghjdgf.com/paypal.co.uk/cycgi-bin/webscrc...   bad\n",
              "2  serviciosbys.com/paypal.cgi.bin.get-into.herf....   bad\n",
              "3  mail.printakid.com/www.online.americanexpress....   bad\n",
              "4  thewhiskeydregs.com/wp-content/themes/widescre...   bad"
            ],
            "text/html": [
              "\n",
              "  <div id=\"df-6641908c-ab61-4dab-ba57-784495b77f52\">\n",
              "    <div class=\"colab-df-container\">\n",
              "      <div>\n",
              "<style scoped>\n",
              "    .dataframe tbody tr th:only-of-type {\n",
              "        vertical-align: middle;\n",
              "    }\n",
              "\n",
              "    .dataframe tbody tr th {\n",
              "        vertical-align: top;\n",
              "    }\n",
              "\n",
              "    .dataframe thead th {\n",
              "        text-align: right;\n",
              "    }\n",
              "</style>\n",
              "<table border=\"1\" class=\"dataframe\">\n",
              "  <thead>\n",
              "    <tr style=\"text-align: right;\">\n",
              "      <th></th>\n",
              "      <th>URL</th>\n",
              "      <th>Label</th>\n",
              "    </tr>\n",
              "  </thead>\n",
              "  <tbody>\n",
              "    <tr>\n",
              "      <th>0</th>\n",
              "      <td>nobell.it/70ffb52d079109dca5664cce6f317373782/...</td>\n",
              "      <td>bad</td>\n",
              "    </tr>\n",
              "    <tr>\n",
              "      <th>1</th>\n",
              "      <td>www.dghjdgf.com/paypal.co.uk/cycgi-bin/webscrc...</td>\n",
              "      <td>bad</td>\n",
              "    </tr>\n",
              "    <tr>\n",
              "      <th>2</th>\n",
              "      <td>serviciosbys.com/paypal.cgi.bin.get-into.herf....</td>\n",
              "      <td>bad</td>\n",
              "    </tr>\n",
              "    <tr>\n",
              "      <th>3</th>\n",
              "      <td>mail.printakid.com/www.online.americanexpress....</td>\n",
              "      <td>bad</td>\n",
              "    </tr>\n",
              "    <tr>\n",
              "      <th>4</th>\n",
              "      <td>thewhiskeydregs.com/wp-content/themes/widescre...</td>\n",
              "      <td>bad</td>\n",
              "    </tr>\n",
              "  </tbody>\n",
              "</table>\n",
              "</div>\n",
              "      <button class=\"colab-df-convert\" onclick=\"convertToInteractive('df-6641908c-ab61-4dab-ba57-784495b77f52')\"\n",
              "              title=\"Convert this dataframe to an interactive table.\"\n",
              "              style=\"display:none;\">\n",
              "        \n",
              "  <svg xmlns=\"http://www.w3.org/2000/svg\" height=\"24px\"viewBox=\"0 0 24 24\"\n",
              "       width=\"24px\">\n",
              "    <path d=\"M0 0h24v24H0V0z\" fill=\"none\"/>\n",
              "    <path d=\"M18.56 5.44l.94 2.06.94-2.06 2.06-.94-2.06-.94-.94-2.06-.94 2.06-2.06.94zm-11 1L8.5 8.5l.94-2.06 2.06-.94-2.06-.94L8.5 2.5l-.94 2.06-2.06.94zm10 10l.94 2.06.94-2.06 2.06-.94-2.06-.94-.94-2.06-.94 2.06-2.06.94z\"/><path d=\"M17.41 7.96l-1.37-1.37c-.4-.4-.92-.59-1.43-.59-.52 0-1.04.2-1.43.59L10.3 9.45l-7.72 7.72c-.78.78-.78 2.05 0 2.83L4 21.41c.39.39.9.59 1.41.59.51 0 1.02-.2 1.41-.59l7.78-7.78 2.81-2.81c.8-.78.8-2.07 0-2.86zM5.41 20L4 18.59l7.72-7.72 1.47 1.35L5.41 20z\"/>\n",
              "  </svg>\n",
              "      </button>\n",
              "      \n",
              "  <style>\n",
              "    .colab-df-container {\n",
              "      display:flex;\n",
              "      flex-wrap:wrap;\n",
              "      gap: 12px;\n",
              "    }\n",
              "\n",
              "    .colab-df-convert {\n",
              "      background-color: #E8F0FE;\n",
              "      border: none;\n",
              "      border-radius: 50%;\n",
              "      cursor: pointer;\n",
              "      display: none;\n",
              "      fill: #1967D2;\n",
              "      height: 32px;\n",
              "      padding: 0 0 0 0;\n",
              "      width: 32px;\n",
              "    }\n",
              "\n",
              "    .colab-df-convert:hover {\n",
              "      background-color: #E2EBFA;\n",
              "      box-shadow: 0px 1px 2px rgba(60, 64, 67, 0.3), 0px 1px 3px 1px rgba(60, 64, 67, 0.15);\n",
              "      fill: #174EA6;\n",
              "    }\n",
              "\n",
              "    [theme=dark] .colab-df-convert {\n",
              "      background-color: #3B4455;\n",
              "      fill: #D2E3FC;\n",
              "    }\n",
              "\n",
              "    [theme=dark] .colab-df-convert:hover {\n",
              "      background-color: #434B5C;\n",
              "      box-shadow: 0px 1px 3px 1px rgba(0, 0, 0, 0.15);\n",
              "      filter: drop-shadow(0px 1px 2px rgba(0, 0, 0, 0.3));\n",
              "      fill: #FFFFFF;\n",
              "    }\n",
              "  </style>\n",
              "\n",
              "      <script>\n",
              "        const buttonEl =\n",
              "          document.querySelector('#df-6641908c-ab61-4dab-ba57-784495b77f52 button.colab-df-convert');\n",
              "        buttonEl.style.display =\n",
              "          google.colab.kernel.accessAllowed ? 'block' : 'none';\n",
              "\n",
              "        async function convertToInteractive(key) {\n",
              "          const element = document.querySelector('#df-6641908c-ab61-4dab-ba57-784495b77f52');\n",
              "          const dataTable =\n",
              "            await google.colab.kernel.invokeFunction('convertToInteractive',\n",
              "                                                     [key], {});\n",
              "          if (!dataTable) return;\n",
              "\n",
              "          const docLinkHtml = 'Like what you see? Visit the ' +\n",
              "            '<a target=\"_blank\" href=https://colab.research.google.com/notebooks/data_table.ipynb>data table notebook</a>'\n",
              "            + ' to learn more about interactive tables.';\n",
              "          element.innerHTML = '';\n",
              "          dataTable['output_type'] = 'display_data';\n",
              "          await google.colab.output.renderOutput(dataTable, element);\n",
              "          const docLink = document.createElement('div');\n",
              "          docLink.innerHTML = docLinkHtml;\n",
              "          element.appendChild(docLink);\n",
              "        }\n",
              "      </script>\n",
              "    </div>\n",
              "  </div>\n",
              "  "
            ]
          },
          "metadata": {},
          "execution_count": 3
        }
      ]
    },
    {
      "cell_type": "code",
      "source": [
        "x=df.Label.unique()\n",
        "print(x)\n",
        "y=np.array([df[df['Label']=='bad'].count()[0],df[df['Label']=='good'].count()[0]])\n",
        "print(y)\n",
        "\n",
        "plt.bar(x,y,color=[ 'red', 'green'])\n"
      ],
      "metadata": {
        "colab": {
          "base_uri": "https://localhost:8080/",
          "height": 485
        },
        "id": "hgeF7OF0dlMT",
        "outputId": "3e702db6-d880-43de-aedd-cd415898f4d7"
      },
      "execution_count": null,
      "outputs": [
        {
          "output_type": "stream",
          "name": "stdout",
          "text": [
            "['bad' 'good']\n",
            "[156422 392924]\n"
          ]
        },
        {
          "output_type": "execute_result",
          "data": {
            "text/plain": [
              "<BarContainer object of 2 artists>"
            ]
          },
          "metadata": {},
          "execution_count": 4
        },
        {
          "output_type": "display_data",
          "data": {
            "text/plain": [
              "<Figure size 640x480 with 1 Axes>"
            ],
            "image/png": "[encoded data removed]"
          },
          "metadata": {}
        }
      ]
    },
    {
      "cell_type": "code",
      "source": [
        "# Check for null values in the dataset\n",
        "\n",
        "if df.isnull().any().any():\n",
        "    print(\"There are null values in the dataset\")\n",
        "else:\n",
        "    print(\"There are no null values in the dataset\")"
      ],
      "metadata": {
        "colab": {
          "base_uri": "https://localhost:8080/"
        },
        "id": "AiCd8eG1GEte",
        "outputId": "2fe3e136-6d12-4ea4-84d4-439d3ac36da6"
      },
      "execution_count": null,
      "outputs": [
        {
          "output_type": "stream",
          "name": "stdout",
          "text": [
            "There are no null values in the dataset\n"
          ]
        }
      ]
    },
    {
      "cell_type": "code",
      "source": [
        "df.head()"
      ],
      "metadata": {
        "colab": {
          "base_uri": "https://localhost:8080/",
          "height": 206
        },
        "id": "ipjUWXXrRmax",
        "outputId": "75576d2a-77ad-4bc3-f770-4ffce3a16787"
      },
      "execution_count": null,
      "outputs": [
        {
          "output_type": "execute_result",
          "data": {
            "text/plain": [
              "                                                 URL Label\n",
              "0  nobell.it/70ffb52d079109dca5664cce6f317373782/...   bad\n",
              "1  www.dghjdgf.com/paypal.co.uk/cycgi-bin/webscrc...   bad\n",
              "2  serviciosbys.com/paypal.cgi.bin.get-into.herf....   bad\n",
              "3  mail.printakid.com/www.online.americanexpress....   bad\n",
              "4  thewhiskeydregs.com/wp-content/themes/widescre...   bad"
            ],
            "text/html": [
              "\n",
              "  <div id=\"df-6bd65c4a-a328-4dbf-b11e-20bf1ac95ffb\">\n",
              "    <div class=\"colab-df-container\">\n",
              "      <div>\n",
              "<style scoped>\n",
              "    .dataframe tbody tr th:only-of-type {\n",
              "        vertical-align: middle;\n",
              "    }\n",
              "\n",
              "    .dataframe tbody tr th {\n",
              "        vertical-align: top;\n",
              "    }\n",
              "\n",
              "    .dataframe thead th {\n",
              "        text-align: right;\n",
              "    }\n",
              "</style>\n",
              "<table border=\"1\" class=\"dataframe\">\n",
              "  <thead>\n",
              "    <tr style=\"text-align: right;\">\n",
              "      <th></th>\n",
              "      <th>URL</th>\n",
              "      <th>Label</th>\n",
              "    </tr>\n",
              "  </thead>\n",
              "  <tbody>\n",
              "    <tr>\n",
              "      <th>0</th>\n",
              "      <td>nobell.it/70ffb52d079109dca5664cce6f317373782/...</td>\n",
              "      <td>bad</td>\n",
              "    </tr>\n",
              "    <tr>\n",
              "      <th>1</th>\n",
              "      <td>www.dghjdgf.com/paypal.co.uk/cycgi-bin/webscrc...</td>\n",
              "      <td>bad</td>\n",
              "    </tr>\n",
              "    <tr>\n",
              "      <th>2</th>\n",
              "      <td>serviciosbys.com/paypal.cgi.bin.get-into.herf....</td>\n",
              "      <td>bad</td>\n",
              "    </tr>\n",
              "    <tr>\n",
              "      <th>3</th>\n",
              "      <td>mail.printakid.com/www.online.americanexpress....</td>\n",
              "      <td>bad</td>\n",
              "    </tr>\n",
              "    <tr>\n",
              "      <th>4</th>\n",
              "      <td>thewhiskeydregs.com/wp-content/themes/widescre...</td>\n",
              "      <td>bad</td>\n",
              "    </tr>\n",
              "  </tbody>\n",
              "</table>\n",
              "</div>\n",
              "      <button class=\"colab-df-convert\" onclick=\"convertToInteractive('df-6bd65c4a-a328-4dbf-b11e-20bf1ac95ffb')\"\n",
              "              title=\"Convert this dataframe to an interactive table.\"\n",
              "              style=\"display:none;\">\n",
              "        \n",
              "  <svg xmlns=\"http://www.w3.org/2000/svg\" height=\"24px\"viewBox=\"0 0 24 24\"\n",
              "       width=\"24px\">\n",
              "    <path d=\"M0 0h24v24H0V0z\" fill=\"none\"/>\n",
              "    <path d=\"M18.56 5.44l.94 2.06.94-2.06 2.06-.94-2.06-.94-.94-2.06-.94 2.06-2.06.94zm-11 1L8.5 8.5l.94-2.06 2.06-.94-2.06-.94L8.5 2.5l-.94 2.06-2.06.94zm10 10l.94 2.06.94-2.06 2.06-.94-2.06-.94-.94-2.06-.94 2.06-2.06.94z\"/><path d=\"M17.41 7.96l-1.37-1.37c-.4-.4-.92-.59-1.43-.59-.52 0-1.04.2-1.43.59L10.3 9.45l-7.72 7.72c-.78.78-.78 2.05 0 2.83L4 21.41c.39.39.9.59 1.41.59.51 0 1.02-.2 1.41-.59l7.78-7.78 2.81-2.81c.8-.78.8-2.07 0-2.86zM5.41 20L4 18.59l7.72-7.72 1.47 1.35L5.41 20z\"/>\n",
              "  </svg>\n",
              "      </button>\n",
              "      \n",
              "  <style>\n",
              "    .colab-df-container {\n",
              "      display:flex;\n",
              "      flex-wrap:wrap;\n",
              "      gap: 12px;\n",
              "    }\n",
              "\n",
              "    .colab-df-convert {\n",
              "      background-color: #E8F0FE;\n",
              "      border: none;\n",
              "      border-radius: 50%;\n",
              "      cursor: pointer;\n",
              "      display: none;\n",
              "      fill: #1967D2;\n",
              "      height: 32px;\n",
              "      padding: 0 0 0 0;\n",
              "      width: 32px;\n",
              "    }\n",
              "\n",
              "    .colab-df-convert:hover {\n",
              "      background-color: #E2EBFA;\n",
              "      box-shadow: 0px 1px 2px rgba(60, 64, 67, 0.3), 0px 1px 3px 1px rgba(60, 64, 67, 0.15);\n",
              "      fill: #174EA6;\n",
              "    }\n",
              "\n",
              "    [theme=dark] .colab-df-convert {\n",
              "      background-color: #3B4455;\n",
              "      fill: #D2E3FC;\n",
              "    }\n",
              "\n",
              "    [theme=dark] .colab-df-convert:hover {\n",
              "      background-color: #434B5C;\n",
              "      box-shadow: 0px 1px 3px 1px rgba(0, 0, 0, 0.15);\n",
              "      filter: drop-shadow(0px 1px 2px rgba(0, 0, 0, 0.3));\n",
              "      fill: #FFFFFF;\n",
              "    }\n",
              "  </style>\n",
              "\n",
              "      <script>\n",
              "        const buttonEl =\n",
              "          document.querySelector('#df-6bd65c4a-a328-4dbf-b11e-20bf1ac95ffb button.colab-df-convert');\n",
              "        buttonEl.style.display =\n",
              "          google.colab.kernel.accessAllowed ? 'block' : 'none';\n",
              "\n",
              "        async function convertToInteractive(key) {\n",
              "          const element = document.querySelector('#df-6bd65c4a-a328-4dbf-b11e-20bf1ac95ffb');\n",
              "          const dataTable =\n",
              "            await google.colab.kernel.invokeFunction('convertToInteractive',\n",
              "                                                     [key], {});\n",
              "          if (!dataTable) return;\n",
              "\n",
              "          const docLinkHtml = 'Like what you see? Visit the ' +\n",
              "            '<a target=\"_blank\" href=https://colab.research.google.com/notebooks/data_table.ipynb>data table notebook</a>'\n",
              "            + ' to learn more about interactive tables.';\n",
              "          element.innerHTML = '';\n",
              "          dataTable['output_type'] = 'display_data';\n",
              "          await google.colab.output.renderOutput(dataTable, element);\n",
              "          const docLink = document.createElement('div');\n",
              "          docLink.innerHTML = docLinkHtml;\n",
              "          element.appendChild(docLink);\n",
              "        }\n",
              "      </script>\n",
              "    </div>\n",
              "  </div>\n",
              "  "
            ]
          },
          "metadata": {},
          "execution_count": 6
        }
      ]
    },
    {
      "cell_type": "code",
      "source": [
        "# Check for duplicate values and drop if any\n",
        "\n",
        "print(\"Number of duplicate values:\",df.URL.duplicated().sum())\n",
        "df.drop(df[df.URL.duplicated() == True].index, axis = 0, inplace = True)\n",
        "df = df.reset_index(drop=True)\n",
        "print(\"Number of Duplicates after droping:\",df.URL.duplicated().sum())"
      ],
      "metadata": {
        "colab": {
          "base_uri": "https://localhost:8080/"
        },
        "id": "CgLKPdJ1GdI_",
        "outputId": "36bf64a1-2744-4f09-8258-38449a198058"
      },
      "execution_count": null,
      "outputs": [
        {
          "output_type": "stream",
          "name": "stdout",
          "text": [
            "Number of duplicate values: 42151\n",
            "Number of Duplicates after droping: 0\n"
          ]
        }
      ]
    },
    {
      "cell_type": "code",
      "source": [
        "df['clean_url']=df.URL.astype(str)\n",
        "df['clean_url'] = df['clean_url'].str.replace(\"'\", \"\")"
      ],
      "metadata": {
        "id": "6t-qHsLcL-bD"
      },
      "execution_count": null,
      "outputs": []
    },
    {
      "cell_type": "code",
      "source": [
        "# Tokenizing and Lemmatizing the URL\n",
        "\n",
        "tok= RegexpTokenizer(r'[A-Za-z0-9]+')\n",
        "df['list_url']=df.clean_url.map(lambda x: tok.tokenize(x))\n",
        "\n",
        "wnl = WordNetLemmatizer()\n",
        "df['lem_url'] = df['list_url'].map(lambda x: [wnl.lemmatize(word) for word in x])"
      ],
      "metadata": {
        "id": "vJK2qMYWNAf3"
      },
      "execution_count": null,
      "outputs": []
    },
    {
      "cell_type": "code",
      "source": [
        "df.head()"
      ],
      "metadata": {
        "colab": {
          "base_uri": "https://localhost:8080/",
          "height": 357
        },
        "id": "WNtQ8DjZWHz6",
        "outputId": "82a7eac6-d351-4007-b467-ca9442f74400"
      },
      "execution_count": null,
      "outputs": [
        {
          "output_type": "execute_result",
          "data": {
            "text/plain": [
              "                                                 URL Label  \\\n",
              "0  nobell.it/70ffb52d079109dca5664cce6f317373782/...   bad   \n",
              "1  www.dghjdgf.com/paypal.co.uk/cycgi-bin/webscrc...   bad   \n",
              "2  serviciosbys.com/paypal.cgi.bin.get-into.herf....   bad   \n",
              "3  mail.printakid.com/www.online.americanexpress....   bad   \n",
              "4  thewhiskeydregs.com/wp-content/themes/widescre...   bad   \n",
              "\n",
              "                                           clean_url  \\\n",
              "0  nobell.it/70ffb52d079109dca5664cce6f317373782/...   \n",
              "1  www.dghjdgf.com/paypal.co.uk/cycgi-bin/webscrc...   \n",
              "2  serviciosbys.com/paypal.cgi.bin.get-into.herf....   \n",
              "3  mail.printakid.com/www.online.americanexpress....   \n",
              "4  thewhiskeydregs.com/wp-content/themes/widescre...   \n",
              "\n",
              "                                            list_url  \\\n",
              "0  [nobell, it, 70ffb52d079109dca5664cce6f3173737...   \n",
              "1  [www, dghjdgf, com, paypal, co, uk, cycgi, bin...   \n",
              "2  [serviciosbys, com, paypal, cgi, bin, get, int...   \n",
              "3  [mail, printakid, com, www, online, americanex...   \n",
              "4  [thewhiskeydregs, com, wp, content, themes, wi...   \n",
              "\n",
              "                                             lem_url  \n",
              "0  [nobell, it, 70ffb52d079109dca5664cce6f3173737...  \n",
              "1  [www, dghjdgf, com, paypal, co, uk, cycgi, bin...  \n",
              "2  [serviciosbys, com, paypal, cgi, bin, get, int...  \n",
              "3  [mail, printakid, com, www, online, americanex...  \n",
              "4  [thewhiskeydregs, com, wp, content, theme, wid...  "
            ],
            "text/html": [
              "\n",
              "  <div id=\"df-118781d9-8780-4e6d-a405-28ee69f2a150\">\n",
              "    <div class=\"colab-df-container\">\n",
              "      <div>\n",
              "<style scoped>\n",
              "    .dataframe tbody tr th:only-of-type {\n",
              "        vertical-align: middle;\n",
              "    }\n",
              "\n",
              "    .dataframe tbody tr th {\n",
              "        vertical-align: top;\n",
              "    }\n",
              "\n",
              "    .dataframe thead th {\n",
              "        text-align: right;\n",
              "    }\n",
              "</style>\n",
              "<table border=\"1\" class=\"dataframe\">\n",
              "  <thead>\n",
              "    <tr style=\"text-align: right;\">\n",
              "      <th></th>\n",
              "      <th>URL</th>\n",
              "      <th>Label</th>\n",
              "      <th>clean_url</th>\n",
              "      <th>list_url</th>\n",
              "      <th>lem_url</th>\n",
              "    </tr>\n",
              "  </thead>\n",
              "  <tbody>\n",
              "    <tr>\n",
              "      <th>0</th>\n",
              "      <td>nobell.it/70ffb52d079109dca5664cce6f317373782/...</td>\n",
              "      <td>bad</td>\n",
              "      <td>nobell.it/70ffb52d079109dca5664cce6f317373782/...</td>\n",
              "      <td>[nobell, it, 70ffb52d079109dca5664cce6f3173737...</td>\n",
              "      <td>[nobell, it, 70ffb52d079109dca5664cce6f3173737...</td>\n",
              "    </tr>\n",
              "    <tr>\n",
              "      <th>1</th>\n",
              "      <td>www.dghjdgf.com/paypal.co.uk/cycgi-bin/webscrc...</td>\n",
              "      <td>bad</td>\n",
              "      <td>www.dghjdgf.com/paypal.co.uk/cycgi-bin/webscrc...</td>\n",
              "      <td>[www, dghjdgf, com, paypal, co, uk, cycgi, bin...</td>\n",
              "      <td>[www, dghjdgf, com, paypal, co, uk, cycgi, bin...</td>\n",
              "    </tr>\n",
              "    <tr>\n",
              "      <th>2</th>\n",
              "      <td>serviciosbys.com/paypal.cgi.bin.get-into.herf....</td>\n",
              "      <td>bad</td>\n",
              "      <td>serviciosbys.com/paypal.cgi.bin.get-into.herf....</td>\n",
              "      <td>[serviciosbys, com, paypal, cgi, bin, get, int...</td>\n",
              "      <td>[serviciosbys, com, paypal, cgi, bin, get, int...</td>\n",
              "    </tr>\n",
              "    <tr>\n",
              "      <th>3</th>\n",
              "      <td>mail.printakid.com/www.online.americanexpress....</td>\n",
              "      <td>bad</td>\n",
              "      <td>mail.printakid.com/www.online.americanexpress....</td>\n",
              "      <td>[mail, printakid, com, www, online, americanex...</td>\n",
              "      <td>[mail, printakid, com, www, online, americanex...</td>\n",
              "    </tr>\n",
              "    <tr>\n",
              "      <th>4</th>\n",
              "      <td>thewhiskeydregs.com/wp-content/themes/widescre...</td>\n",
              "      <td>bad</td>\n",
              "      <td>thewhiskeydregs.com/wp-content/themes/widescre...</td>\n",
              "      <td>[thewhiskeydregs, com, wp, content, themes, wi...</td>\n",
              "      <td>[thewhiskeydregs, com, wp, content, theme, wid...</td>\n",
              "    </tr>\n",
              "  </tbody>\n",
              "</table>\n",
              "</div>\n",
              "      <button class=\"colab-df-convert\" onclick=\"convertToInteractive('df-118781d9-8780-4e6d-a405-28ee69f2a150')\"\n",
              "              title=\"Convert this dataframe to an interactive table.\"\n",
              "              style=\"display:none;\">\n",
              "        \n",
              "  <svg xmlns=\"http://www.w3.org/2000/svg\" height=\"24px\"viewBox=\"0 0 24 24\"\n",
              "       width=\"24px\">\n",
              "    <path d=\"M0 0h24v24H0V0z\" fill=\"none\"/>\n",
              "    <path d=\"M18.56 5.44l.94 2.06.94-2.06 2.06-.94-2.06-.94-.94-2.06-.94 2.06-2.06.94zm-11 1L8.5 8.5l.94-2.06 2.06-.94-2.06-.94L8.5 2.5l-.94 2.06-2.06.94zm10 10l.94 2.06.94-2.06 2.06-.94-2.06-.94-.94-2.06-.94 2.06-2.06.94z\"/><path d=\"M17.41 7.96l-1.37-1.37c-.4-.4-.92-.59-1.43-.59-.52 0-1.04.2-1.43.59L10.3 9.45l-7.72 7.72c-.78.78-.78 2.05 0 2.83L4 21.41c.39.39.9.59 1.41.59.51 0 1.02-.2 1.41-.59l7.78-7.78 2.81-2.81c.8-.78.8-2.07 0-2.86zM5.41 20L4 18.59l7.72-7.72 1.47 1.35L5.41 20z\"/>\n",
              "  </svg>\n",
              "      </button>\n",
              "      \n",
              "  <style>\n",
              "    .colab-df-container {\n",
              "      display:flex;\n",
              "      flex-wrap:wrap;\n",
              "      gap: 12px;\n",
              "    }\n",
              "\n",
              "    .colab-df-convert {\n",
              "      background-color: #E8F0FE;\n",
              "      border: none;\n",
              "      border-radius: 50%;\n",
              "      cursor: pointer;\n",
              "      display: none;\n",
              "      fill: #1967D2;\n",
              "      height: 32px;\n",
              "      padding: 0 0 0 0;\n",
              "      width: 32px;\n",
              "    }\n",
              "\n",
              "    .colab-df-convert:hover {\n",
              "      background-color: #E2EBFA;\n",
              "      box-shadow: 0px 1px 2px rgba(60, 64, 67, 0.3), 0px 1px 3px 1px rgba(60, 64, 67, 0.15);\n",
              "      fill: #174EA6;\n",
              "    }\n",
              "\n",
              "    [theme=dark] .colab-df-convert {\n",
              "      background-color: #3B4455;\n",
              "      fill: #D2E3FC;\n",
              "    }\n",
              "\n",
              "    [theme=dark] .colab-df-convert:hover {\n",
              "      background-color: #434B5C;\n",
              "      box-shadow: 0px 1px 3px 1px rgba(0, 0, 0, 0.15);\n",
              "      filter: drop-shadow(0px 1px 2px rgba(0, 0, 0, 0.3));\n",
              "      fill: #FFFFFF;\n",
              "    }\n",
              "  </style>\n",
              "\n",
              "      <script>\n",
              "        const buttonEl =\n",
              "          document.querySelector('#df-118781d9-8780-4e6d-a405-28ee69f2a150 button.colab-df-convert');\n",
              "        buttonEl.style.display =\n",
              "          google.colab.kernel.accessAllowed ? 'block' : 'none';\n",
              "\n",
              "        async function convertToInteractive(key) {\n",
              "          const element = document.querySelector('#df-118781d9-8780-4e6d-a405-28ee69f2a150');\n",
              "          const dataTable =\n",
              "            await google.colab.kernel.invokeFunction('convertToInteractive',\n",
              "                                                     [key], {});\n",
              "          if (!dataTable) return;\n",
              "\n",
              "          const docLinkHtml = 'Like what you see? Visit the ' +\n",
              "            '<a target=\"_blank\" href=https://colab.research.google.com/notebooks/data_table.ipynb>data table notebook</a>'\n",
              "            + ' to learn more about interactive tables.';\n",
              "          element.innerHTML = '';\n",
              "          dataTable['output_type'] = 'display_data';\n",
              "          await google.colab.output.renderOutput(dataTable, element);\n",
              "          const docLink = document.createElement('div');\n",
              "          docLink.innerHTML = docLinkHtml;\n",
              "          element.appendChild(docLink);\n",
              "        }\n",
              "      </script>\n",
              "    </div>\n",
              "  </div>\n",
              "  "
            ]
          },
          "metadata": {},
          "execution_count": 10
        }
      ]
    },
    {
      "cell_type": "code",
      "source": [
        "# TFID vectorizing the urls\n",
        "\n",
        "word_vectorizer = TfidfVectorizer(ngram_range=(1,1), max_features =200)\n",
        "\n",
        "unigramdataGet= word_vectorizer.fit_transform(df['lem_url'].astype('str'))\n",
        "unigramdataGet = unigramdataGet.toarray()\n",
        "vocab = word_vectorizer.get_feature_names_out ()\n",
        "x=pd.DataFrame(np.round(unigramdataGet, 1), columns=vocab)\n",
        "x[x>0] = 1"
      ],
      "metadata": {
        "id": "DCmpnpb-PpUA"
      },
      "execution_count": null,
      "outputs": []
    },
    {
      "cell_type": "code",
      "source": [
        "x.head()"
      ],
      "metadata": {
        "colab": {
          "base_uri": "https://localhost:8080/",
          "height": 235
        },
        "id": "bKmfQFEBXWXZ",
        "outputId": "972f6677-0824-4464-f275-b772ac4a2d65"
      },
      "execution_count": null,
      "outputs": [
        {
          "output_type": "execute_result",
          "data": {
            "text/plain": [
              "    01   02   03   04   05   06   07   08   09   10  ...  wiki  wikia  \\\n",
              "0  0.0  0.0  0.0  0.0  0.0  0.0  0.0  0.0  0.0  0.0  ...   0.0    0.0   \n",
              "1  0.0  0.0  0.0  0.0  0.0  0.0  0.0  0.0  0.0  0.0  ...   0.0    0.0   \n",
              "2  0.0  0.0  0.0  0.0  0.0  0.0  0.0  0.0  0.0  0.0  ...   0.0    0.0   \n",
              "3  0.0  0.0  0.0  0.0  0.0  0.0  0.0  0.0  0.0  0.0  ...   0.0    0.0   \n",
              "4  0.0  0.0  0.0  0.0  0.0  0.0  0.0  0.0  0.0  0.0  ...   0.0    0.0   \n",
              "\n",
              "   wikipedia  with   wn  wordpress   wp  www  yahoo  youtube  \n",
              "0        0.0   0.0  0.0        0.0  0.0  0.0    0.0      0.0  \n",
              "1        0.0   0.0  0.0        0.0  0.0  1.0    0.0      0.0  \n",
              "2        0.0   0.0  0.0        0.0  0.0  0.0    0.0      0.0  \n",
              "3        0.0   0.0  0.0        0.0  0.0  1.0    0.0      0.0  \n",
              "4        0.0   0.0  0.0        0.0  1.0  0.0    0.0      0.0  \n",
              "\n",
              "[5 rows x 200 columns]"
            ],
            "text/html": [
              "\n",
              "  <div id=\"df-90039c84-2a58-40a6-aa70-851cd0561245\">\n",
              "    <div class=\"colab-df-container\">\n",
              "      <div>\n",
              "<style scoped>\n",
              "    .dataframe tbody tr th:only-of-type {\n",
              "        vertical-align: middle;\n",
              "    }\n",
              "\n",
              "    .dataframe tbody tr th {\n",
              "        vertical-align: top;\n",
              "    }\n",
              "\n",
              "    .dataframe thead th {\n",
              "        text-align: right;\n",
              "    }\n",
              "</style>\n",
              "<table border=\"1\" class=\"dataframe\">\n",
              "  <thead>\n",
              "    <tr style=\"text-align: right;\">\n",
              "      <th></th>\n",
              "      <th>01</th>\n",
              "      <th>02</th>\n",
              "      <th>03</th>\n",
              "      <th>04</th>\n",
              "      <th>05</th>\n",
              "      <th>06</th>\n",
              "      <th>07</th>\n",
              "      <th>08</th>\n",
              "      <th>09</th>\n",
              "      <th>10</th>\n",
              "      <th>...</th>\n",
              "      <th>wiki</th>\n",
              "      <th>wikia</th>\n",
              "      <th>wikipedia</th>\n",
              "      <th>with</th>\n",
              "      <th>wn</th>\n",
              "      <th>wordpress</th>\n",
              "      <th>wp</th>\n",
              "      <th>www</th>\n",
              "      <th>yahoo</th>\n",
              "      <th>youtube</th>\n",
              "    </tr>\n",
              "  </thead>\n",
              "  <tbody>\n",
              "    <tr>\n",
              "      <th>0</th>\n",
              "      <td>0.0</td>\n",
              "      <td>0.0</td>\n",
              "      <td>0.0</td>\n",
              "      <td>0.0</td>\n",
              "      <td>0.0</td>\n",
              "      <td>0.0</td>\n",
              "      <td>0.0</td>\n",
              "      <td>0.0</td>\n",
              "      <td>0.0</td>\n",
              "      <td>0.0</td>\n",
              "      <td>...</td>\n",
              "      <td>0.0</td>\n",
              "      <td>0.0</td>\n",
              "      <td>0.0</td>\n",
              "      <td>0.0</td>\n",
              "      <td>0.0</td>\n",
              "      <td>0.0</td>\n",
              "      <td>0.0</td>\n",
              "      <td>0.0</td>\n",
              "      <td>0.0</td>\n",
              "      <td>0.0</td>\n",
              "    </tr>\n",
              "    <tr>\n",
              "      <th>1</th>\n",
              "      <td>0.0</td>\n",
              "      <td>0.0</td>\n",
              "      <td>0.0</td>\n",
              "      <td>0.0</td>\n",
              "      <td>0.0</td>\n",
              "      <td>0.0</td>\n",
              "      <td>0.0</td>\n",
              "      <td>0.0</td>\n",
              "      <td>0.0</td>\n",
              "      <td>0.0</td>\n",
              "      <td>...</td>\n",
              "      <td>0.0</td>\n",
              "      <td>0.0</td>\n",
              "      <td>0.0</td>\n",
              "      <td>0.0</td>\n",
              "      <td>0.0</td>\n",
              "      <td>0.0</td>\n",
              "      <td>0.0</td>\n",
              "      <td>1.0</td>\n",
              "      <td>0.0</td>\n",
              "      <td>0.0</td>\n",
              "    </tr>\n",
              "    <tr>\n",
              "      <th>2</th>\n",
              "      <td>0.0</td>\n",
              "      <td>0.0</td>\n",
              "      <td>0.0</td>\n",
              "      <td>0.0</td>\n",
              "      <td>0.0</td>\n",
              "      <td>0.0</td>\n",
              "      <td>0.0</td>\n",
              "      <td>0.0</td>\n",
              "      <td>0.0</td>\n",
              "      <td>0.0</td>\n",
              "      <td>...</td>\n",
              "      <td>0.0</td>\n",
              "      <td>0.0</td>\n",
              "      <td>0.0</td>\n",
              "      <td>0.0</td>\n",
              "      <td>0.0</td>\n",
              "      <td>0.0</td>\n",
              "      <td>0.0</td>\n",
              "      <td>0.0</td>\n",
              "      <td>0.0</td>\n",
              "      <td>0.0</td>\n",
              "    </tr>\n",
              "    <tr>\n",
              "      <th>3</th>\n",
              "      <td>0.0</td>\n",
              "      <td>0.0</td>\n",
              "      <td>0.0</td>\n",
              "      <td>0.0</td>\n",
              "      <td>0.0</td>\n",
              "      <td>0.0</td>\n",
              "      <td>0.0</td>\n",
              "      <td>0.0</td>\n",
              "      <td>0.0</td>\n",
              "      <td>0.0</td>\n",
              "      <td>...</td>\n",
              "      <td>0.0</td>\n",
              "      <td>0.0</td>\n",
              "      <td>0.0</td>\n",
              "      <td>0.0</td>\n",
              "      <td>0.0</td>\n",
              "      <td>0.0</td>\n",
              "      <td>0.0</td>\n",
              "      <td>1.0</td>\n",
              "      <td>0.0</td>\n",
              "      <td>0.0</td>\n",
              "    </tr>\n",
              "    <tr>\n",
              "      <th>4</th>\n",
              "      <td>0.0</td>\n",
              "      <td>0.0</td>\n",
              "      <td>0.0</td>\n",
              "      <td>0.0</td>\n",
              "      <td>0.0</td>\n",
              "      <td>0.0</td>\n",
              "      <td>0.0</td>\n",
              "      <td>0.0</td>\n",
              "      <td>0.0</td>\n",
              "      <td>0.0</td>\n",
              "      <td>...</td>\n",
              "      <td>0.0</td>\n",
              "      <td>0.0</td>\n",
              "      <td>0.0</td>\n",
              "      <td>0.0</td>\n",
              "      <td>0.0</td>\n",
              "      <td>0.0</td>\n",
              "      <td>1.0</td>\n",
              "      <td>0.0</td>\n",
              "      <td>0.0</td>\n",
              "      <td>0.0</td>\n",
              "    </tr>\n",
              "  </tbody>\n",
              "</table>\n",
              "<p>5 rows × 200 columns</p>\n",
              "</div>\n",
              "      <button class=\"colab-df-convert\" onclick=\"convertToInteractive('df-90039c84-2a58-40a6-aa70-851cd0561245')\"\n",
              "              title=\"Convert this dataframe to an interactive table.\"\n",
              "              style=\"display:none;\">\n",
              "        \n",
              "  <svg xmlns=\"http://www.w3.org/2000/svg\" height=\"24px\"viewBox=\"0 0 24 24\"\n",
              "       width=\"24px\">\n",
              "    <path d=\"M0 0h24v24H0V0z\" fill=\"none\"/>\n",
              "    <path d=\"M18.56 5.44l.94 2.06.94-2.06 2.06-.94-2.06-.94-.94-2.06-.94 2.06-2.06.94zm-11 1L8.5 8.5l.94-2.06 2.06-.94-2.06-.94L8.5 2.5l-.94 2.06-2.06.94zm10 10l.94 2.06.94-2.06 2.06-.94-2.06-.94-.94-2.06-.94 2.06-2.06.94z\"/><path d=\"M17.41 7.96l-1.37-1.37c-.4-.4-.92-.59-1.43-.59-.52 0-1.04.2-1.43.59L10.3 9.45l-7.72 7.72c-.78.78-.78 2.05 0 2.83L4 21.41c.39.39.9.59 1.41.59.51 0 1.02-.2 1.41-.59l7.78-7.78 2.81-2.81c.8-.78.8-2.07 0-2.86zM5.41 20L4 18.59l7.72-7.72 1.47 1.35L5.41 20z\"/>\n",
              "  </svg>\n",
              "      </button>\n",
              "      \n",
              "  <style>\n",
              "    .colab-df-container {\n",
              "      display:flex;\n",
              "      flex-wrap:wrap;\n",
              "      gap: 12px;\n",
              "    }\n",
              "\n",
              "    .colab-df-convert {\n",
              "      background-color: #E8F0FE;\n",
              "      border: none;\n",
              "      border-radius: 50%;\n",
              "      cursor: pointer;\n",
              "      display: none;\n",
              "      fill: #1967D2;\n",
              "      height: 32px;\n",
              "      padding: 0 0 0 0;\n",
              "      width: 32px;\n",
              "    }\n",
              "\n",
              "    .colab-df-convert:hover {\n",
              "      background-color: #E2EBFA;\n",
              "      box-shadow: 0px 1px 2px rgba(60, 64, 67, 0.3), 0px 1px 3px 1px rgba(60, 64, 67, 0.15);\n",
              "      fill: #174EA6;\n",
              "    }\n",
              "\n",
              "    [theme=dark] .colab-df-convert {\n",
              "      background-color: #3B4455;\n",
              "      fill: #D2E3FC;\n",
              "    }\n",
              "\n",
              "    [theme=dark] .colab-df-convert:hover {\n",
              "      background-color: #434B5C;\n",
              "      box-shadow: 0px 1px 3px 1px rgba(0, 0, 0, 0.15);\n",
              "      filter: drop-shadow(0px 1px 2px rgba(0, 0, 0, 0.3));\n",
              "      fill: #FFFFFF;\n",
              "    }\n",
              "  </style>\n",
              "\n",
              "      <script>\n",
              "        const buttonEl =\n",
              "          document.querySelector('#df-90039c84-2a58-40a6-aa70-851cd0561245 button.colab-df-convert');\n",
              "        buttonEl.style.display =\n",
              "          google.colab.kernel.accessAllowed ? 'block' : 'none';\n",
              "\n",
              "        async function convertToInteractive(key) {\n",
              "          const element = document.querySelector('#df-90039c84-2a58-40a6-aa70-851cd0561245');\n",
              "          const dataTable =\n",
              "            await google.colab.kernel.invokeFunction('convertToInteractive',\n",
              "                                                     [key], {});\n",
              "          if (!dataTable) return;\n",
              "\n",
              "          const docLinkHtml = 'Like what you see? Visit the ' +\n",
              "            '<a target=\"_blank\" href=https://colab.research.google.com/notebooks/data_table.ipynb>data table notebook</a>'\n",
              "            + ' to learn more about interactive tables.';\n",
              "          element.innerHTML = '';\n",
              "          dataTable['output_type'] = 'display_data';\n",
              "          await google.colab.output.renderOutput(dataTable, element);\n",
              "          const docLink = document.createElement('div');\n",
              "          docLink.innerHTML = docLinkHtml;\n",
              "          element.appendChild(docLink);\n",
              "        }\n",
              "      </script>\n",
              "    </div>\n",
              "  </div>\n",
              "  "
            ]
          },
          "metadata": {},
          "execution_count": 12
        }
      ]
    },
    {
      "cell_type": "code",
      "source": [
        "# Features using CountVectorizer\n",
        "\n",
        "# cv = CountVectorizer()\n",
        "# feature = cv.fit_transform(df.lem_url.astype('str'))\n",
        "# print(feature)"
      ],
      "metadata": {
        "id": "PTCX2PH1UVC7"
      },
      "execution_count": null,
      "outputs": []
    },
    {
      "cell_type": "code",
      "source": [
        "# Creating the Y label\n",
        "y=df.Label\n",
        "y=np.where(y=='bad',0,1)"
      ],
      "metadata": {
        "id": "bt6fW9PKUdrg"
      },
      "execution_count": null,
      "outputs": []
    },
    {
      "cell_type": "code",
      "source": [
        "# Creating Test and Training datasets\n",
        "\n",
        "x_new = StandardScaler().fit_transform(x)\n",
        "\n",
        "x_train,x_test,y_train,y_test =  train_test_split(x_new,y,random_state=42,test_size=0.2,shuffle=True)\n",
        "\n",
        "train_size, num_features = x_train.shape\n",
        "test_size, test_features = x_test.shape"
      ],
      "metadata": {
        "id": "QQSvy2S-Zs-g"
      },
      "execution_count": null,
      "outputs": []
    },
    {
      "cell_type": "code",
      "source": [
        "LR_sklearn_model = LogisticRegression()\n",
        "LR_sklearn_model.fit(x_train, y_train)\n",
        "\n",
        "# Make predictions on the testing set\n",
        "LR_y_pred = LR_sklearn_model.predict(x_test)\n",
        "\n",
        "# Evaluate the performance of the model using accuracy score\n",
        "sklearn_LRaccuracy = accuracy_score(y_test, LR_y_pred)\n",
        "print(\"Accuracy:\", sklearn_LRaccuracy)"
      ],
      "metadata": {
        "id": "d_VfQAUA7me0"
      },
      "execution_count": null,
      "outputs": []
    },
    {
      "cell_type": "code",
      "source": [
        "svm_sklearn_model = LinearSVC().fit(x_train, y_train)\n",
        "\n",
        "# make predictions on the test set\n",
        "svm_y_pred = svm_sklearn_model.predict(x_test)\n",
        "\n",
        "# calculate accuracy\n",
        "sklearn_SVMaccuracy = accuracy_score(y_test, svm_y_pred)\n",
        "print(\"Accuracy:\", sklearn_SVMaccuracy)"
      ],
      "metadata": {
        "id": "_GTXHJpuaNhj"
      },
      "execution_count": null,
      "outputs": []
    },
    {
      "cell_type": "code",
      "source": [
        "def svm_accuracy(Output_values,y_data):\n",
        "  accuracy1 = 0\n",
        "  # number of correct predictions\n",
        "  for i in range(len(y_data)):\n",
        "    if Output_values[i] >= 0:\n",
        "      predicted_y = 1\n",
        "    else:\n",
        "      predicted_y = 0\n",
        "    eq = tf.cast(tf.equal(predicted_y, y_test[i]), tf.float32)  # eq is 0 if model does not predict correctly, or 1 if correctly\n",
        "    accuracy1 = accuracy1 + eq.numpy()\n",
        "\n",
        "  return accuracy1/len(y_data)\n",
        "\n",
        "# accuracy function\n",
        "def LR_accuracy(Output_values,y_data):\n",
        "  accuracy1 = 0\n",
        "  # number of correct predictions\n",
        "  for i in range(len(y_data)):\n",
        "    if Output_values[i] >= 0.5:\n",
        "      predicted_y = 1\n",
        "    else:\n",
        "      predicted_y = 0\n",
        "    eq = tf.cast(tf.equal(predicted_y, y_test[i]), tf.float32)  # eq is 0 if model does not predict correctly, or 1 if correctly\n",
        "    accuracy1 = accuracy1 + eq.numpy()\n",
        "\n",
        "  return accuracy1/len(y_data)"
      ],
      "metadata": {
        "id": "hjyUzWt4VMQL"
      },
      "execution_count": null,
      "outputs": []
    },
    {
      "cell_type": "code",
      "source": [
        "#Logistic regression Model\n",
        "class LogisticRegressionModel(object):\n",
        "\n",
        "    def __init__(self, num_features):\n",
        "        self.W = tf.Variable(tf.random.normal(shape=[num_features, 1])) # a column vector, initial weights follow the standard normal distribution\n",
        "        self.b = tf.Variable(tf.random.normal(shape=[1, 1]))  # bias is a single value\n",
        "\n",
        "    def __call__(self, X): # instance is called via this method: after e is created, call: e() <-- __call__ method will be called\n",
        "        return self.likelihood(X)\n",
        "\n",
        "    def likelihood(self, X): # where all the predicting and training happens\n",
        "      X = tf.cast(X, dtype=tf.float32)\n",
        "      raw_Y = tf.matmul(X, self.W) + self.b\n",
        "      return tf.math.sigmoid(raw_Y)  # 1./(1. + tf.exp(-raw_Y)) is just the sigmoid function\n",
        "\n",
        "    def predict(self, X): # prediction function\n",
        "      p = self.likelihood(X)\n",
        "      return p\n",
        "\n",
        "# the loss function\n",
        "def LR_compute_loss(y_pred, y_true):\n",
        "  epsilon=1e-7\n",
        "  y_pred = tf.clip_by_value(y_pred, epsilon, 1 - epsilon)\n",
        "  loss = -tf.reduce_mean(y_true * tf.math.log(y_pred) + (1 - y_true) * tf.math.log(1 - y_pred))\n",
        "  return loss"
      ],
      "metadata": {
        "id": "BQwIdAqzNLgl"
      },
      "execution_count": null,
      "outputs": []
    },
    {
      "cell_type": "code",
      "source": [
        "# Define a training loop:\n",
        "def LR_training_loop(epochs,BATCH_SIZE,learning_rate):\n",
        "  LR_model = LogisticRegressionModel(num_features)\n",
        "  for i in epochs:\n",
        "    rand_index = np.random.choice(train_size, size = BATCH_SIZE) # generate 100 random indices\n",
        "    X = x_train[rand_index]  # given 100 random indices, choose 100 data points from train_data\n",
        "    Y = np.transpose([y_train[rand_index]])  # get their true y values for those 100 data points\n",
        "\n",
        "    with tf.GradientTape() as tape:\n",
        "      loss = LR_compute_loss(LR_model(X), Y)  # compute the loss based on the model output and the true Y\n",
        "      #loss = tf.keras.losses.BinaryCrossentropy()(Y, model(X)) # keras model for computing loss\n",
        "\n",
        "    dW, db = tape.gradient(loss, [LR_model.W, LR_model.b])\n",
        "    LR_model.W.assign_sub(learning_rate * dW)\n",
        "    LR_model.b.assign_sub(learning_rate * db)\n",
        "\n",
        "\n",
        "    # print epoch and loss value every 100th iteration.\n",
        "    if i % 100 == 0:\n",
        "      print(\"=> epoch %2d: loss= %.2f\" %(i, loss.numpy()))\n",
        "\n",
        "##############  training is finished !!  ################3\n",
        "\n",
        "  # predict values for x_test data set\n",
        "  predicted_values = LR_model.predict(x_test) # predicted labels are probabilities\n",
        "\n",
        "  lr_acc=LR_accuracy(predicted_values,y_test)\n",
        "  # Accuracy of test Data:\n",
        "  print(\"accuracy:\",lr_acc)\n",
        "  return lr_acc"
      ],
      "metadata": {
        "id": "f-5N9FPmVZFG"
      },
      "execution_count": null,
      "outputs": []
    },
    {
      "cell_type": "code",
      "source": [
        "#Support Vector Model\n",
        "class SupportVectorModel(object):\n",
        "\n",
        "    def __init__(self, num_features):\n",
        "        self.W = tf.Variable(tf.random.normal(shape=[num_features, 1]))\n",
        "        self.b = tf.Variable(tf.random.normal(shape=[1, 1]))\n",
        "        self.C = 0.001\n",
        "\n",
        "    def __call__(self, X):\n",
        "        return self.likelihood(X)\n",
        "\n",
        "    def likelihood(self, X):\n",
        "      X = tf.cast(X, dtype=tf.float32)\n",
        "      raw_Y = tf.matmul(X, self.W) + self.b\n",
        "      return raw_Y\n",
        "\n",
        "\n",
        "    def predict(self, X):\n",
        "      p = self.likelihood(X)\n",
        "      return p\n",
        "\n",
        "    # the loss function\n",
        "    def compute_loss(self,y_pred, y_true):\n",
        "      c_loss = 0.5 * tf.matrix_square_root(tf.matmul(tf.transpose(self.W),self.W))\n",
        "      hinge_loss = tf.maximum(0, 1 - y_true * y_pred)\n",
        "      loss = self.C*c_loss + hinge_loss\n",
        "\n",
        "      return tf.reduce_mean(loss)"
      ],
      "metadata": {
        "id": "UPPe8zB4dKHJ"
      },
      "execution_count": null,
      "outputs": []
    },
    {
      "cell_type": "code",
      "source": [
        "# Define a training loop:\n",
        "def SVM_training_loop(epochs,BATCH_SIZE,learning_rate):\n",
        "  epoch_plot = []\n",
        "  loss_plot = []\n",
        "  svm_model = SupportVectorModel(num_features)\n",
        "  for i in epochs:\n",
        "    rand_index = np.random.choice(train_size, size = BATCH_SIZE) # generate 100 random indices\n",
        "    X = x_train[rand_index]  # given 100 random indices, choose 100 data points from train_data\n",
        "    Y = np.transpose([y_train[rand_index]])  # get their true y values for those 100 data points\n",
        "    Y = tf.reshape(Y, (-1, 1))  #new\n",
        "\n",
        "    Y_label = np.where(Y <= 0, -1, 1)\n",
        "\n",
        "    with tf.GradientTape() as tape:\n",
        "      loss = svm_model.compute_loss(svm_model(X), Y_label) # compute the loss based on the model output and the true Y\n",
        "\n",
        "    dW, db = tape.gradient(loss, [svm_model.W, svm_model.b])\n",
        "    svm_model.W.assign_sub(learning_rate * dW)\n",
        "    svm_model.b.assign_sub(learning_rate * db)\n",
        "\n",
        "    # print epoch and loss value every 100th iteration.\n",
        "    if i % 100 == 0:\n",
        "      print(\"=> epoch %2d: loss= %.2f\" %(i, loss.numpy()))\n",
        "      epoch_plot.append(i)\n",
        "\n",
        "\n",
        "##############  training is finished !!  ################3\n",
        "\n",
        "  # predict values for x_test data set\n",
        "  predicted_values = svm_model.predict(x_test) # predicted labels are probabilities\n",
        "\n",
        "  svm_acc = svm_accuracy(predicted_values,y_test)\n",
        "  # Accuracy of test Data:\n",
        "  print(\"accuracy:\",svm_acc)\n",
        "  return svm_acc"
      ],
      "metadata": {
        "id": "2dm4V_qgdTSQ"
      },
      "execution_count": null,
      "outputs": []
    },
    {
      "cell_type": "code",
      "source": [
        "LR_accuracy_before = LR_training_loop(range(2000),2000,1)"
      ],
      "metadata": {
        "id": "qj_xKG87Wjpm"
      },
      "execution_count": null,
      "outputs": []
    },
    {
      "cell_type": "code",
      "source": [
        "LR_accuracy_comp = [LR_accuracy_before, sklearn_LRaccuracy]\n",
        "\n",
        "plt.bar(np.arange(len(LR_accuracy_comp)), LR_accuracy_comp)\n",
        "\n",
        "plt.title('Accuracy comparison')\n",
        "plt.xlabel('Own code vs sklearn')\n",
        "plt.ylabel('Accuracy')\n",
        "y_max = max(LR_accuracy_comp) + 0.02\n",
        "y_min = min(LR_accuracy_comp) - 0.05\n",
        "plt.ylim(y_min, y_max)\n",
        "plt.legend()\n",
        "\n",
        "# show plot\n",
        "plt.show()"
      ],
      "metadata": {
        "id": "ZlCRqS3CbIMM"
      },
      "execution_count": null,
      "outputs": []
    },
    {
      "cell_type": "code",
      "source": [
        "SVM_accuracy_before = SVM_training_loop(range(2000),200,0.2)"
      ],
      "metadata": {
        "id": "aiSZPoDzdUDV"
      },
      "execution_count": null,
      "outputs": []
    },
    {
      "cell_type": "code",
      "source": [
        "SVM_accuracy_comp = [SVM_accuracy_before, sklearn_SVMaccuracy]\n",
        "\n",
        "plt.bar(np.arange(len(SVM_accuracy_comp)), SVM_accuracy_comp)\n",
        "\n",
        "plt.title('Accuracy comparison')\n",
        "plt.xlabel('Own code vs sklearn')\n",
        "plt.ylabel('Accuracy')\n",
        "y_max = max(SVM_accuracy_comp) + 0.02\n",
        "y_min = min(SVM_accuracy_comp) - 0.05\n",
        "plt.ylim(y_min, y_max)\n",
        "plt.legend()\n",
        "\n",
        "# show plot\n",
        "plt.show()"
      ],
      "metadata": {
        "id": "Y62NNTn_f69q"
      },
      "execution_count": null,
      "outputs": []
    },
    {
      "cell_type": "code",
      "source": [
        "# Functions to find the features\n",
        "\n",
        "def process_tld(url):\n",
        "    try:\n",
        "        #Extract the top level domain (TLD) from the URL given\n",
        "        res = get_tld(url, as_object = True, fail_silently=False,fix_protocol=True)\n",
        "        pri_domain= res.parsed_url.netloc\n",
        "    except :\n",
        "        pri_domain= \"\"\n",
        "    return pri_domain\n",
        "\n",
        "def entropy(url):\n",
        "    \"\"\"Calculate the entropy of a domain name.\"\"\"\n",
        "    domain = process_tld(url)\n",
        "    n = len(domain)\n",
        "    counts = Counter(domain)\n",
        "    probs = [float(c) / n for c in counts.values()]\n",
        "    return -sum(p * math.log(p, 2) for p in probs)\n",
        "\n",
        "def httpSecure(url):\n",
        "    htp = urlparse(url).scheme\n",
        "    match = str(htp)\n",
        "    if match=='https':\n",
        "        return 1\n",
        "    else:\n",
        "        return 0\n",
        "\n",
        "def suspicious_words(url):\n",
        "    match = re.search('PayPal|login|signin|bank|account|update|free|lucky|service|bonus|ebay|webscr|promo|bill|private|cookie|cache|bonus|payment|refund|system|track',url)\n",
        "    if match:\n",
        "        return 1\n",
        "    else:\n",
        "        return 0\n",
        "\n",
        "def digit_count(url):\n",
        "    digits = 0\n",
        "    for i in url:\n",
        "        if i.isnumeric():\n",
        "            digits = digits + 1\n",
        "    return digits\n",
        "\n",
        "def letter_count(url):\n",
        "    letters = 0\n",
        "    for i in url:\n",
        "        if i.isalpha():\n",
        "            letters = letters + 1\n",
        "    return letters\n",
        "\n",
        "def Shortening_Service(url):\n",
        "    match = re.search('bit\\.ly|goo\\.gl|shorte\\.st|go2l\\.ink|x\\.co|ow\\.ly|t\\.co|tinyurl|tr\\.im|is\\.gd|cli\\.gs|'\n",
        "                      'yfrog\\.com|migre\\.me|ff\\.im|tiny\\.cc|url4\\.eu|twit\\.ac|su\\.pr|twurl\\.nl|snipurl\\.com|'\n",
        "                      'short\\.to|BudURL\\.com|ping\\.fm|post\\.ly|Just\\.as|bkite\\.com|snipr\\.com|fic\\.kr|loopt\\.us|'\n",
        "                      'doiop\\.com|short\\.ie|kl\\.am|wp\\.me|rubyurl\\.com|om\\.ly|to\\.ly|bit\\.do|t\\.co|lnkd\\.in|'\n",
        "                      'db\\.tt|qr\\.ae|adf\\.ly|goo\\.gl|bitly\\.com|cur\\.lv|tinyurl\\.com|ow\\.ly|bit\\.ly|ity\\.im|'\n",
        "                      'q\\.gs|is\\.gd|po\\.st|bc\\.vc|twitthis\\.com|u\\.to|j\\.mp|buzurl\\.com|cutt\\.us|u\\.bb|yourls\\.org|'\n",
        "                      'x\\.co|prettylinkpro\\.com|scrnch\\.me|filoops\\.info|vzturl\\.com|qr\\.net|1url\\.com|tweez\\.me|v\\.gd|'\n",
        "                      'tr\\.im|link\\.zip\\.net',\n",
        "                      url)\n",
        "    if match:\n",
        "        return 1\n",
        "    else:\n",
        "        return 0\n",
        "\n",
        "def having_ip_address(url):\n",
        "    match = re.search(\n",
        "        '(([01]?\\\\d\\\\d?|2[0-4]\\\\d|25[0-5])\\\\.([01]?\\\\d\\\\d?|2[0-4]\\\\d|25[0-5])\\\\.([01]?\\\\d\\\\d?|2[0-4]\\\\d|25[0-5])\\\\.'\n",
        "        '([01]?\\\\d\\\\d?|2[0-4]\\\\d|25[0-5])\\\\/)|'  # IPv4\n",
        "        '(([01]?\\\\d\\\\d?|2[0-4]\\\\d|25[0-5])\\\\.([01]?\\\\d\\\\d?|2[0-4]\\\\d|25[0-5])\\\\.([01]?\\\\d\\\\d?|2[0-4]\\\\d|25[0-5])\\\\.'\n",
        "        '([01]?\\\\d\\\\d?|2[0-4]\\\\d|25[0-5])\\\\/)|'  # IPv4 with port\n",
        "        '((0x[0-9a-fA-F]{1,2})\\\\.(0x[0-9a-fA-F]{1,2})\\\\.(0x[0-9a-fA-F]{1,2})\\\\.(0x[0-9a-fA-F]{1,2})\\\\/)' # IPv4 in hexadecimal\n",
        "        '(?:[a-fA-F0-9]{1,4}:){7}[a-fA-F0-9]{1,4}|'\n",
        "        '([0-9]+(?:\\.[0-9]+){3}:[0-9]+)|'\n",
        "        '((?:(?:\\d|[01]?\\d\\d|2[0-4]\\d|25[0-5])\\.){3}(?:25[0-5]|2[0-4]\\d|[01]?\\d\\d|\\d)(?:\\/\\d{1,2})?)', url)  # Ipv6\n",
        "    if match:\n",
        "        return 1\n",
        "    else:\n",
        "        return 0\n",
        "\n",
        "def fd_length(url):\n",
        "    urlpath= urlparse(url).path\n",
        "    try:\n",
        "        return len(urlpath.split('/')[1])\n",
        "    except:\n",
        "        return 0\n",
        "\n",
        "def digits_in_hostname(url):\n",
        "    domain = process_tld(url)\n",
        "    digits = 0\n",
        "    for i in domain:\n",
        "        if i.isnumeric():\n",
        "            digits = digits + 1\n",
        "    return digits\n",
        "\n",
        "def abnormal_url(url):\n",
        "    hostname = urlparse(url).hostname\n",
        "    hostname = str(hostname)\n",
        "    match = re.search(hostname, url)\n",
        "    if match:\n",
        "        return 1\n",
        "    else:\n",
        "        return 0\n"
      ],
      "metadata": {
        "id": "nH7w90_Cfid0"
      },
      "execution_count": null,
      "outputs": []
    },
    {
      "cell_type": "code",
      "source": [
        "# Features used\n",
        "\n",
        "x['url_length'] = df['clean_url'].apply(lambda i: len(str(i)))\n",
        "\n",
        "x['domain_entropy'] = df['clean_url'].apply(lambda i: entropy(i))\n",
        "\n",
        "feature = ['@','?','-','=','.','#','%','+','$','!','*',',','//','/','http','https']\n",
        "for a in feature:\n",
        "    x[a] = df['clean_url'].apply(lambda i: i.count(a))\n",
        "\n",
        "x['sus_words'] = df['clean_url'].apply(lambda i: suspicious_words(i))\n",
        "\n",
        "x['https'] = df['clean_url'].apply(lambda i: httpSecure(i))\n",
        "\n",
        "x['digits']= df['clean_url'].apply(lambda i: digit_count(i))\n",
        "\n",
        "x['letters']= df['clean_url'].apply(lambda i: letter_count(i))\n",
        "\n",
        "x['Shortening_Service'] = df['clean_url'].apply(lambda x: Shortening_Service(x))\n",
        "\n",
        "x['having_ip_address'] = df['clean_url'].apply(lambda i: having_ip_address(i))\n",
        "\n",
        "x['fd_length'] = df['clean_url'].apply(lambda i: fd_length(i))\n",
        "\n",
        "x['digits_in_hostname'] = df['clean_url'].apply(lambda i: digits_in_hostname(i))\n",
        "\n",
        "x['abnormal_url'] = df['clean_url'].apply(lambda i: abnormal_url(i))\n"
      ],
      "metadata": {
        "id": "NeYk610ifPIO"
      },
      "execution_count": null,
      "outputs": []
    },
    {
      "cell_type": "code",
      "source": [
        "# New features\n",
        "\n",
        "x.iloc[:,-25:]"
      ],
      "metadata": {
        "id": "gONk-8nilbUa"
      },
      "execution_count": null,
      "outputs": []
    },
    {
      "cell_type": "code",
      "source": [
        "# New training and testing dataset\n",
        "\n",
        "x_new = StandardScaler().fit_transform(x)\n",
        "\n",
        "x_train,x_test,y_train,y_test =  train_test_split(x_new,y,random_state=42,test_size=0.2,shuffle=True)\n",
        "\n",
        "train_size, num_features = x_train.shape\n",
        "test_size, test_features = x_test.shape"
      ],
      "metadata": {
        "id": "j89fGXdUmHVV"
      },
      "execution_count": null,
      "outputs": []
    },
    {
      "cell_type": "code",
      "source": [
        "LR_accuracy_after = LR_training_loop(range(2000),200,0.2)"
      ],
      "metadata": {
        "id": "3bHDLQ3Hj_R5"
      },
      "execution_count": null,
      "outputs": []
    },
    {
      "cell_type": "code",
      "source": [
        "SVM_accuracy_after = SVM_training_loop(range(2000),200,0.2)"
      ],
      "metadata": {
        "id": "-4SzZZ-skBGC"
      },
      "execution_count": null,
      "outputs": []
    },
    {
      "cell_type": "code",
      "source": [
        "# another way to use keras's functional API:\n",
        "\n",
        "# using keras functional API\n",
        "dnn = tf.keras.Sequential()\n",
        "\n",
        "# add layers:\n",
        "dnn.add(tf.keras.layers.Dense(128, activation='relu')) # first hidden layer\n",
        "dnn.add(tf.keras.layers.Dense(100, activation='relu')) # second hidden layer\n",
        "dnn.add(tf.keras.layers.Dense(80, activation='sigmoid')) # Third hidden layer\n",
        "dnn.add(tf.keras.layers.Dense(40, activation='relu')) # Fourth hidden layer\n",
        "dnn.add(tf.keras.layers.Dense(2, activation='softmax')) # output layer has two neurals with softmax function, which corresponding to probabilities\n"
      ],
      "metadata": {
        "id": "1y-_f8nkoLha"
      },
      "execution_count": null,
      "outputs": []
    },
    {
      "cell_type": "code",
      "source": [
        "# step 2: Compile the model: compile sets the training parameters\n",
        "dnn.compile(optimizer='adam',\n",
        "              loss=tf.keras.losses.SparseCategoricalCrossentropy(from_logits=True),  # choose the loss function for the deep neural network\n",
        "              metrics=['accuracy'])"
      ],
      "metadata": {
        "id": "3Al6Y3yRoVU_"
      },
      "execution_count": null,
      "outputs": []
    },
    {
      "cell_type": "code",
      "source": [
        "# step 3: training:\n",
        "dnn.fit(x_train, y_train, epochs=10) # 1 epoch --> accuracy 93%, 10 epochs --> 97.2%!\n",
        "\n",
        "dnn.summary()\n"
      ],
      "metadata": {
        "colab": {
          "base_uri": "https://localhost:8080/"
        },
        "id": "Wc6L3dBKoXxr",
        "outputId": "8c830d0f-b287-4fbd-8cc4-a38175de010a"
      },
      "execution_count": null,
      "outputs": [
        {
          "output_type": "stream",
          "name": "stdout",
          "text": [
            "Epoch 1/10\n"
          ]
        },
        {
          "output_type": "stream",
          "name": "stderr",
          "text": [
            "/usr/local/lib/python3.10/dist-packages/keras/backend.py:5612: UserWarning: \"`sparse_categorical_crossentropy` received `from_logits=True`, but the `output` argument was produced by a Softmax activation and thus does not represent logits. Was this intended?\n",
            "  output, from_logits = _get_logits(\n"
          ]
        },
        {
          "output_type": "stream",
          "name": "stdout",
          "text": [
            "12680/12680 [==============================] - 58s 4ms/step - loss: 0.2211 - accuracy: 0.9123\n",
            "Epoch 2/10\n",
            "12680/12680 [==============================] - 44s 3ms/step - loss: 0.2079 - accuracy: 0.9175\n",
            "Epoch 3/10\n",
            "12680/12680 [==============================] - 39s 3ms/step - loss: 0.2037 - accuracy: 0.9185\n",
            "Epoch 4/10\n",
            "12680/12680 [==============================] - 40s 3ms/step - loss: 0.2011 - accuracy: 0.9199\n",
            "Epoch 5/10\n",
            "12680/12680 [==============================] - 40s 3ms/step - loss: 0.1994 - accuracy: 0.9204\n",
            "Epoch 6/10\n",
            "12680/12680 [==============================] - 40s 3ms/step - loss: 0.1980 - accuracy: 0.9211\n",
            "Epoch 7/10\n",
            "12680/12680 [==============================] - 40s 3ms/step - loss: 0.1969 - accuracy: 0.9215\n",
            "Epoch 8/10\n",
            "12680/12680 [==============================] - 40s 3ms/step - loss: 0.1962 - accuracy: 0.9216\n",
            "Epoch 9/10\n",
            "12680/12680 [==============================] - 49s 4ms/step - loss: 0.1960 - accuracy: 0.9218\n",
            "Epoch 10/10\n",
            "12680/12680 [==============================] - 48s 4ms/step - loss: 0.1953 - accuracy: 0.9219\n",
            "Model: \"sequential\"\n",
            "_________________________________________________________________\n",
            " Layer (type)                Output Shape              Param #   \n",
            "=================================================================\n",
            " dense (Dense)               (None, 128)               25728     \n",
            "                                                                 \n",
            " dense_1 (Dense)             (None, 100)               12900     \n",
            "                                                                 \n",
            " dense_2 (Dense)             (None, 80)                8080      \n",
            "                                                                 \n",
            " dense_3 (Dense)             (None, 40)                3240      \n",
            "                                                                 \n",
            " dense_4 (Dense)             (None, 2)                 82        \n",
            "                                                                 \n",
            "=================================================================\n",
            "Total params: 50,030\n",
            "Trainable params: 50,030\n",
            "Non-trainable params: 0\n",
            "_________________________________________________________________\n"
          ]
        }
      ]
    },
    {
      "cell_type": "code",
      "source": [
        "def accuracDNN(Output_values,y_data):\n",
        "  accuracy1 = 0\n",
        "  # number of correct predictions\n",
        "  for i in range(len(y_data)):\n",
        "    if Output_values[0][0] >=0.5:\n",
        "      predicted_y = 0\n",
        "    else:\n",
        "      predicted_y = 1\n",
        "    eq = tf.cast(tf.equal(predicted_y, y_test.iloc[i,0]), tf.float32) # eq is 0 if model does not predict correctly, or 1 if correctly\n",
        "    accuracy1 = accuracy1 + eq.numpy()\n",
        "\n",
        "  return accuracy1/len(y_data)"
      ],
      "metadata": {
        "id": "J_hzHBaBdiVZ"
      },
      "execution_count": null,
      "outputs": []
    },
    {
      "cell_type": "code",
      "source": [
        "# after training:\n",
        "\n",
        "predicted_values = dnn.predict(x_test)\n",
        "DNN_accuracy = accuracDNN(predicted_values,y_test)\n",
        "print(\"accuracy:\",DNN_accuracy)"
      ],
      "metadata": {
        "colab": {
          "base_uri": "https://localhost:8080/"
        },
        "id": "vOMQgc3hoZyw",
        "outputId": "bf5fe24d-4a3f-4459-a2f7-a2d38a40ea16"
      },
      "execution_count": null,
      "outputs": [
        {
          "output_type": "stream",
          "name": "stdout",
          "text": [
            "3170/3170 [==============================] - 7s 2ms/step\n"
          ]
        }
      ]
    },
    {
      "cell_type": "code",
      "source": [],
      "metadata": {
        "id": "no5beLuHqwfs"
      },
      "execution_count": null,
      "outputs": []
    },
    {
      "cell_type": "code",
      "source": [
        "predicted_values"
      ],
      "metadata": {
        "colab": {
          "base_uri": "https://localhost:8080/"
        },
        "id": "xHw-MInFkucR",
        "outputId": "fd916f09-4096-441d-a0a5-2def5f0b76f9"
      },
      "execution_count": null,
      "outputs": [
        {
          "output_type": "execute_result",
          "data": {
            "text/plain": [
              "array([[3.5485768e-01, 6.4514238e-01],\n",
              "       [9.9434078e-01, 5.6592319e-03],\n",
              "       [9.9993163e-01, 6.8263973e-05],\n",
              "       ...,\n",
              "       [1.7390461e-01, 8.2609540e-01],\n",
              "       [4.0485064e-04, 9.9959511e-01],\n",
              "       [1.8317677e-01, 8.1682324e-01]], dtype=float32)"
            ]
          },
          "metadata": {},
          "execution_count": 39
        }
      ]
    },
    {
      "cell_type": "code",
      "source": [
        "# bar plot accuracy\n",
        "\n",
        "Method = [\"LR\",\"SVM\",\"NN\"]\n",
        "\n",
        "accuracy_after = [LR_accuracy_after, SVM_accuracy_after, DNN_accuracy]\n",
        "\n",
        "plt.bar(np.arange(len(Method)), accuracy_after, label='accuracies')\n",
        "\n",
        "plt.title('Accuracy comparison')\n",
        "y_max = max(accuracy_after) + 0.02\n",
        "y_min = min(accuracy_after) - 0.05\n",
        "plt.ylim(y_min, y_max)\n",
        "plt.xlabel('Method')\n",
        "plt.ylabel('Accuracy')\n",
        "plt.xticks(np.arange(len(Method)), Method)\n",
        "plt.legend()\n",
        "\n",
        "# show plot\n",
        "plt.show()"
      ],
      "metadata": {
        "colab": {
          "base_uri": "https://localhost:8080/",
          "height": 244
        },
        "id": "_4JZx3SjRK8G",
        "outputId": "9219b0f7-4509-4589-ce7b-08b6b8cb229c"
      },
      "execution_count": null,
      "outputs": [
        {
          "output_type": "error",
          "ename": "NameError",
          "evalue": "ignored",
          "traceback": [
            "\u001b[0;31m---------------------------------------------------------------------------\u001b[0m",
            "\u001b[0;31mNameError\u001b[0m                                 Traceback (most recent call last)",
            "\u001b[0;32m<ipython-input-42-503173351c00>\u001b[0m in \u001b[0;36m<cell line: 5>\u001b[0;34m()\u001b[0m\n\u001b[1;32m      3\u001b[0m \u001b[0mMethod\u001b[0m \u001b[0;34m=\u001b[0m \u001b[0;34m[\u001b[0m\u001b[0;34m\"LR\"\u001b[0m\u001b[0;34m,\u001b[0m\u001b[0;34m\"SVM\"\u001b[0m\u001b[0;34m,\u001b[0m\u001b[0;34m\"NN\"\u001b[0m\u001b[0;34m]\u001b[0m\u001b[0;34m\u001b[0m\u001b[0;34m\u001b[0m\u001b[0m\n\u001b[1;32m      4\u001b[0m \u001b[0;34m\u001b[0m\u001b[0m\n\u001b[0;32m----> 5\u001b[0;31m \u001b[0maccuracy_after\u001b[0m \u001b[0;34m=\u001b[0m \u001b[0;34m[\u001b[0m\u001b[0mLR_accuracy_after\u001b[0m\u001b[0;34m,\u001b[0m \u001b[0mSVM_accuracy_after\u001b[0m\u001b[0;34m,\u001b[0m \u001b[0mDNN_accuracy\u001b[0m\u001b[0;34m]\u001b[0m\u001b[0;34m\u001b[0m\u001b[0;34m\u001b[0m\u001b[0m\n\u001b[0m\u001b[1;32m      6\u001b[0m \u001b[0;34m\u001b[0m\u001b[0m\n\u001b[1;32m      7\u001b[0m \u001b[0mplt\u001b[0m\u001b[0;34m.\u001b[0m\u001b[0mbar\u001b[0m\u001b[0;34m(\u001b[0m\u001b[0mnp\u001b[0m\u001b[0;34m.\u001b[0m\u001b[0marange\u001b[0m\u001b[0;34m(\u001b[0m\u001b[0mlen\u001b[0m\u001b[0;34m(\u001b[0m\u001b[0mMethod\u001b[0m\u001b[0;34m)\u001b[0m\u001b[0;34m)\u001b[0m\u001b[0;34m,\u001b[0m \u001b[0maccuracy_after\u001b[0m\u001b[0;34m,\u001b[0m \u001b[0mlabel\u001b[0m\u001b[0;34m=\u001b[0m\u001b[0;34m'accuracies'\u001b[0m\u001b[0;34m)\u001b[0m\u001b[0;34m\u001b[0m\u001b[0;34m\u001b[0m\u001b[0m\n",
            "\u001b[0;31mNameError\u001b[0m: name 'LR_accuracy_after' is not defined"
          ]
        }
      ]
    }
  ]
}