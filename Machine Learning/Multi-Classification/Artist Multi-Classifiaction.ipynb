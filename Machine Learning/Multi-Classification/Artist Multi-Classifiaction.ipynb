{
 "cells": [
  {
   "cell_type": "code",
   "execution_count": null,
   "id": "92af3e42-aecd-401c-bb95-3d749a70bc49",
   "metadata": {},
   "outputs": [],
   "source": [
    "# Kevin Richard\n",
    "# Artist Multi-Classifiaction"
   ]
  },
  {
   "cell_type": "code",
   "execution_count": null,
   "id": "893dcd6c-51cd-4b22-95a0-ac87d576575a",
   "metadata": {},
   "outputs": [],
   "source": [
    "import sys\n",
    "!{sys.executable} -m pip install opencv-python\n",
    "import cv2\n",
    "import numpy as np\n",
    "\n",
    "import os\n",
    "from IPython.display import display, Image\n",
    "\n",
    "import tensorflow as tf\n",
    "import matplotlib.pyplot as plt\n",
    "from sklearn.preprocessing import LabelEncoder\n",
    "from tensorflow.keras.preprocessing.image import ImageDataGenerator\n",
    "\n"
   ]
  },
  {
   "cell_type": "code",
   "execution_count": null,
   "id": "87173824-b231-4d3e-b7e1-be640cc357d8",
   "metadata": {},
   "outputs": [],
   "source": [
    "\n",
    "# Change to appropriate file path\n",
    "Train_Folder ='/Painting/Train/'\n",
    "Validation_Folder ='/Painting/Validation/'\n",
    "\n",
    "\n",
    "Artists = os.listdir(Train_Folder)\n",
    "\n",
    "image_list = []\n",
    "for Artist in Artists:\n",
    "    path = os.path.join(Train_Folder, Artist)\n",
    "    image_files = [f for f in os.listdir(path) if f.lower().endswith(('.png', '.jpg', '.jpeg', '.gif'))]\n",
    "    for image_file in image_files:\n",
    "        image_path = os.path.join(path, image_file)\n",
    "        image_list.append([Image(filename=image_path), Artist])\n",
    "        display(Image(filename=image_path))\n",
    "\n"
   ]
  },
  {
   "cell_type": "code",
   "execution_count": null,
   "id": "ca396383-563e-48b3-b8e8-ac49af5b392b",
   "metadata": {},
   "outputs": [],
   "source": [
    "display(image_list[1][1])"
   ]
  },
  {
   "cell_type": "code",
   "execution_count": null,
   "id": "25f29a50-cce0-4d60-9413-9cb509ee1339",
   "metadata": {},
   "outputs": [],
   "source": [
    "# Training Data\n",
    "Train_list2 = []\n",
    "for Artist in Artists:\n",
    "    path = os.path.join(Train_Folder, Artist)\n",
    "    for image_file in os.listdir(path):\n",
    "        image_path = os.path.join(path, image_file)\n",
    "        img = cv2.imread(image_path)\n",
    "        resized_image = cv2.resize(img, (256, 256))\n",
    "        Train_list2.append([resized_image, Artist])\n"
   ]
  },
  {
   "cell_type": "code",
   "execution_count": null,
   "id": "1954008e-1aee-4a09-90d1-9abe26b580a8",
   "metadata": {},
   "outputs": [],
   "source": [
    "# Validation Data\n",
    "Validation_list = []\n",
    "for image_file in os.listdir(Validation_Folder):\n",
    "    image_path = os.path.join(Validation_Folder, image_file)\n",
    "    img = cv2.imread(image_path)\n",
    "    artist = image_file.rsplit('_', 1)[0]\n",
    "    resized_image = cv2.resize(img, (256, 256))\n",
    "    Validation_list.append([resized_image, artist])"
   ]
  },
  {
   "cell_type": "code",
   "execution_count": null,
   "id": "a5380d9f-5673-4cb8-a58c-53c201680409",
   "metadata": {},
   "outputs": [],
   "source": [
    "X =[]\n",
    "y=[]\n",
    "# random.shuffle(Train_list2)\n",
    "for row in Train_list2:\n",
    "    X.append(row[0]/255.0)\n",
    "    y.append(row[1])\n",
    "\n",
    "X_t = []\n",
    "y_t = []\n",
    "\n",
    "for row in Validation_list:\n",
    "    X_t.append(row[0]/255.0)\n",
    "    y_t.append(row[1])"
   ]
  },
  {
   "cell_type": "code",
   "execution_count": null,
   "id": "fb11a7ff-a668-4658-9415-ffe0038595ca",
   "metadata": {},
   "outputs": [],
   "source": [
    "X[1].shape"
   ]
  },
  {
   "cell_type": "code",
   "execution_count": null,
   "id": "036e0ac1-e069-4cb1-a934-7f398ec3bc5d",
   "metadata": {},
   "outputs": [],
   "source": [
    "X = np.array(X)\n",
    "X_train = X.reshape(-1, 256, 256, 3)\n",
    "y_train = np.array(y)\n",
    "\n",
    "X_t = np.array(X_t)\n",
    "X_test = X_t.reshape(-1, 256, 256, 3)\n",
    "y_test = np.array(y_t)"
   ]
  },
  {
   "cell_type": "code",
   "execution_count": null,
   "id": "ca426bf0-cf9c-4e43-8ea2-e57659a104b0",
   "metadata": {},
   "outputs": [],
   "source": [
    "label_encoder = LabelEncoder()\n",
    "\n",
    "# Fit the encoder to your string labels and transform them into integer labels\n",
    "y_train_encoded = label_encoder.fit_transform(y_train)\n",
    "y_test_encoded = label_encoder.transform(y_test)"
   ]
  },
  {
   "cell_type": "code",
   "execution_count": null,
   "id": "c88e8843-0baf-4cf2-9ad4-e48191014504",
   "metadata": {},
   "outputs": [],
   "source": [
    "print(y_train_encoded)\n",
    "\n",
    "class_to_string_mapping = {label: string for label, string in enumerate(label_encoder.classes_)}\n"
   ]
  },
  {
   "cell_type": "code",
   "execution_count": null,
   "id": "43ad45e8-62e4-444d-99d6-7ffe86106dcd",
   "metadata": {},
   "outputs": [],
   "source": [
    "# train_datagen = ImageDataGenerator(\n",
    "#     shear_range=5,\n",
    "#     horizontal_flip=True,\n",
    "#     vertical_flip=True\n",
    "# )\n",
    "\n",
    "# batch_size = 32\n",
    "# # Create a generator from the loaded data\n",
    "# train_generator = train_datagen.flow(X_train, y_train_encoded, batch_size=batch_size, shuffle=True)\n"
   ]
  },
  {
   "cell_type": "code",
   "execution_count": null,
   "id": "69eaa539-9442-4570-8433-aa656a059409",
   "metadata": {},
   "outputs": [],
   "source": [
    "model = tf.keras.Sequential()\n",
    "\n",
    "model.add(tf.keras.layers.Conv2D(32, (3,3), 1, activation = 'relu', input_shape=(256,256,3)))\n",
    "model.add(tf.keras.layers.MaxPooling2D(2,2))\n",
    "\n",
    "model.add(tf.keras.layers.Conv2D(64, (3,3), 1, activation = 'relu'))\n",
    "model.add(tf.keras.layers.MaxPooling2D(2,2))\n",
    "\n",
    "model.add(tf.keras.layers.Conv2D(32, (3,3), 1, activation = 'relu'))\n",
    "model.add(tf.keras.layers.MaxPooling2D(2,2))\n",
    "\n",
    "model.add(tf.keras.layers.Flatten())\n",
    "\n",
    "model.add(tf.keras.layers.Dense(256, activation='relu'))\n",
    "# model.add(tf.keras.layers.BatchNormalization()) \n",
    "model.add(tf.keras.layers.Dense(10,activation='softmax'))\n",
    "# model.add(tf.keras.layers.Dense(10,activation='sigmoid'))\n",
    "\n",
    "\n",
    "model.compile(optimizer='adam', loss='sparse_categorical_crossentropy', metrics=['accuracy'])\n",
    "model.summary()\n",
    "\n"
   ]
  },
  {
   "cell_type": "code",
   "execution_count": null,
   "id": "39d32c1e-15f9-476a-87ac-70371144d1ba",
   "metadata": {},
   "outputs": [],
   "source": [
    "batch_size = 32\n",
    "\n",
    "# train_dataset = tf.data.Dataset.from_tensor_slices((X_train, y_train_encoded))\n",
    "# train_dataset = train_dataset.shuffle(buffer_size=len(X_train)).batch(batch_size)\n",
    "\n",
    "# model.fit(train_dataset,batch_size=batch_size, epochs=10, validation_data=(X_test, y_test_encoded))\n",
    "# test_loss, test_accuracy = model.evaluate(X_test, y_test_encoded, verbose=0)\n",
    "\n",
    "model.fit(X_train, y_train_encoded,batch_size = batch_size, epochs=25, validation_data=(X_test, y_test_encoded))\n",
    "test_loss, test_accuracy = model.evaluate(X_test, y_test_encoded, verbose=0)"
   ]
  },
  {
   "cell_type": "code",
   "execution_count": null,
   "id": "cdb0e71f-0e6d-467a-afb1-8f7225d72418",
   "metadata": {},
   "outputs": [],
   "source": [
    "predictions = model.predict(X_test)"
   ]
  },
  {
   "cell_type": "code",
   "execution_count": null,
   "id": "da81d8b8-1c53-4347-bab5-cd563d77843e",
   "metadata": {},
   "outputs": [],
   "source": [
    "plt.figure(figsize=(12, 6))\n",
    "for i in range(10):\n",
    "    plt.subplot(2, 5, i + 1)\n",
    "    plt.imshow(X_test[i], cmap='gray')\n",
    "    plt.title(f\"Predicted: {tf.argmax(predictions[i]).numpy()}\\nActual: {y_test_encoded[i]}\")\n",
    "    plt.axis('off')\n",
    "plt.show()"
   ]
  }
 ],
 "metadata": {
  "kernelspec": {
   "display_name": "Python 3 (ipykernel)",
   "language": "python",
   "name": "python3"
  },
  "language_info": {
   "codemirror_mode": {
    "name": "ipython",
    "version": 3
   },
   "file_extension": ".py",
   "mimetype": "text/x-python",
   "name": "python",
   "nbconvert_exporter": "python",
   "pygments_lexer": "ipython3",
   "version": "3.11.5"
  }
 },
 "nbformat": 4,
 "nbformat_minor": 5
}
